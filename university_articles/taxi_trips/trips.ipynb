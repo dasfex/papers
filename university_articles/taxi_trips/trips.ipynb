{
  "nbformat": 4,
  "nbformat_minor": 0,
  "metadata": {
    "kernelspec": {
      "display_name": "Python 3",
      "language": "python",
      "name": "python3"
    },
    "language_info": {
      "codemirror_mode": {
        "name": "ipython",
        "version": 3
      },
      "file_extension": ".py",
      "mimetype": "text/x-python",
      "name": "python",
      "nbconvert_exporter": "python",
      "pygments_lexer": "ipython3",
      "version": "3.6.9"
    },
    "colab": {
      "name": "trips.ipynb",
      "provenance": [],
      "collapsed_sections": []
    }
  },
  "cells": [
    {
      "cell_type": "markdown",
      "metadata": {
        "id": "v2dYaDpWMpZy"
      },
      "source": [
        "### Подготовим данные."
      ]
    },
    {
      "cell_type": "code",
      "metadata": {
        "id": "aumW6TNdMpZy"
      },
      "source": [
        "import pandas as pd\n",
        "import numpy as np\n",
        "import matplotlib.pyplot as plt\n",
        "import seaborn as sns\n",
        "\n",
        "from datetime import datetime\n",
        "\n",
        "from sklearn.linear_model import LinearRegression\n",
        "from sklearn.ensemble import RandomForestClassifier\n",
        "from sklearn.pipeline import make_pipeline\n",
        "from sklearn.metrics import mean_squared_error\n",
        "from sklearn.model_selection import train_test_split\n",
        "\n",
        "from sklearn.preprocessing import PolynomialFeatures\n",
        "from sklearn.preprocessing import StandardScaler, MinMaxScaler, MaxAbsScaler\n",
        "\n",
        "sns.set_theme()\n",
        "pd.set_option('display.float_format', lambda x: '%.5f' % x) # для удобного отображения describe"
      ],
      "execution_count": 1,
      "outputs": []
    },
    {
      "cell_type": "code",
      "metadata": {
        "colab": {
          "base_uri": "https://localhost:8080/"
        },
        "id": "O5AiY59gPOdq",
        "outputId": "eb0f1e95-50c1-407f-cec9-4269be444416"
      },
      "source": [
        "from google.colab import drive\n",
        "drive.mount('/content/drive')"
      ],
      "execution_count": 2,
      "outputs": [
        {
          "output_type": "stream",
          "text": [
            "Drive already mounted at /content/drive; to attempt to forcibly remount, call drive.mount(\"/content/drive\", force_remount=True).\n"
          ],
          "name": "stdout"
        }
      ]
    },
    {
      "cell_type": "code",
      "metadata": {
        "id": "jxNPL_fkMpZz"
      },
      "source": [
        "trips19 = pd.read_csv('/content/drive/MyDrive/trips/tripdata_2019-05.csv')"
      ],
      "execution_count": 15,
      "outputs": []
    },
    {
      "cell_type": "code",
      "metadata": {
        "id": "fVyopU4DMpZz",
        "colab": {
          "base_uri": "https://localhost:8080/"
        },
        "outputId": "01c0b211-bc12-44ac-a381-a8f9b7ff0251"
      },
      "source": [
        "trips20 = pd.read_csv('/content/drive/MyDrive/trips/tripdata_2020-05.csv')"
      ],
      "execution_count": 16,
      "outputs": [
        {
          "output_type": "stream",
          "text": [
            "/usr/local/lib/python3.6/dist-packages/IPython/core/interactiveshell.py:2718: DtypeWarning: Columns (6) have mixed types.Specify dtype option on import or set low_memory=False.\n",
            "  interactivity=interactivity, compiler=compiler, result=result)\n"
          ],
          "name": "stderr"
        }
      ]
    },
    {
      "cell_type": "markdown",
      "metadata": {
        "id": "EP0WtfNEMpZz"
      },
      "source": [
        "Посмотрим, какие пропущенные значения есть в данных."
      ]
    },
    {
      "cell_type": "code",
      "metadata": {
        "id": "1UEbRMi5MpZz",
        "colab": {
          "base_uri": "https://localhost:8080/"
        },
        "outputId": "115996c7-ab25-4cfe-e05b-7a87f1e51a76"
      },
      "source": [
        "for el in trips19.columns:\n",
        "    print(el, trips19[el].isna().sum())"
      ],
      "execution_count": 17,
      "outputs": [
        {
          "output_type": "stream",
          "text": [
            "VendorID 0\n",
            "tpep_pickup_datetime 0\n",
            "tpep_dropoff_datetime 0\n",
            "passenger_count 0\n",
            "trip_distance 0\n",
            "RatecodeID 0\n",
            "store_and_fwd_flag 0\n",
            "PULocationID 0\n",
            "DOLocationID 0\n",
            "payment_type 0\n",
            "fare_amount 0\n",
            "extra 0\n",
            "mta_tax 0\n",
            "tip_amount 0\n",
            "tolls_amount 0\n",
            "improvement_surcharge 0\n",
            "total_amount 0\n",
            "congestion_surcharge 0\n"
          ],
          "name": "stdout"
        }
      ]
    },
    {
      "cell_type": "code",
      "metadata": {
        "id": "fIf0J9WsMpZz",
        "colab": {
          "base_uri": "https://localhost:8080/"
        },
        "outputId": "01ea2b41-2679-4167-b46d-043f94ebc30d"
      },
      "source": [
        "for el in trips20.columns:\n",
        "    print(el, trips20[el].isna().sum())"
      ],
      "execution_count": 18,
      "outputs": [
        {
          "output_type": "stream",
          "text": [
            "VendorID 58891\n",
            "tpep_pickup_datetime 0\n",
            "tpep_dropoff_datetime 0\n",
            "passenger_count 58891\n",
            "trip_distance 0\n",
            "RatecodeID 58891\n",
            "store_and_fwd_flag 58891\n",
            "PULocationID 0\n",
            "DOLocationID 0\n",
            "payment_type 58891\n",
            "fare_amount 0\n",
            "extra 0\n",
            "mta_tax 0\n",
            "tip_amount 0\n",
            "tolls_amount 0\n",
            "improvement_surcharge 0\n",
            "total_amount 0\n",
            "congestion_surcharge 0\n"
          ],
          "name": "stdout"
        }
      ]
    },
    {
      "cell_type": "markdown",
      "metadata": {
        "id": "MN9jfSjJMpZz"
      },
      "source": [
        "На данный момент из пропущенных данных для нас интерес может представлять только колонка о количестве пассажиров.\n",
        "\n",
        "Посмотрим на самое частое значение и заменим на него все пропущенные значения."
      ]
    },
    {
      "cell_type": "code",
      "metadata": {
        "id": "XQPPK3rmMpZ0"
      },
      "source": [
        "trips20.VendorID = trips20.VendorID.fillna(trips20['VendorID'].value_counts().idxmax())\n",
        "trips20.passenger_count = trips20.passenger_count.fillna(trips20['passenger_count'].value_counts().idxmax())\n",
        "trips20.RatecodeID = trips20.RatecodeID.fillna(trips20['RatecodeID'].value_counts().idxmax())\n",
        "trips20.store_and_fwd_flag = trips20.store_and_fwd_flag.fillna(trips20['store_and_fwd_flag'].value_counts().idxmax())\n",
        "trips20.payment_type = trips20.payment_type.fillna(trips20['payment_type'].value_counts().idxmax())"
      ],
      "execution_count": 19,
      "outputs": []
    },
    {
      "cell_type": "markdown",
      "metadata": {
        "id": "TqclWanAMpZ0"
      },
      "source": [
        "Преобразуем формат ячеек с временем для удобства."
      ]
    },
    {
      "cell_type": "code",
      "metadata": {
        "id": "-xFTlb_FMpZ0"
      },
      "source": [
        "trips19['tpep_pickup_datetime'] = pd.to_datetime(trips19.tpep_pickup_datetime)\n",
        "trips19['tpep_dropoff_datetime'] = pd.to_datetime(trips19.tpep_dropoff_datetime)"
      ],
      "execution_count": 20,
      "outputs": []
    },
    {
      "cell_type": "code",
      "metadata": {
        "id": "3Z-WDCikMpZ0"
      },
      "source": [
        "trips20['tpep_pickup_datetime'] = pd.to_datetime(trips20.tpep_pickup_datetime)\n",
        "trips20['tpep_dropoff_datetime'] = pd.to_datetime(trips20.tpep_dropoff_datetime)"
      ],
      "execution_count": 21,
      "outputs": []
    },
    {
      "cell_type": "markdown",
      "metadata": {
        "id": "Km6007pdMpZ0"
      },
      "source": [
        "Удалим данные, в которых начало во времени находится после конца, а также те строки, в которых id районов посадки/высадки больше 263(их именно столько)."
      ]
    },
    {
      "cell_type": "code",
      "metadata": {
        "id": "A6sMzKCvMpZ0"
      },
      "source": [
        "trips19 = trips19[trips19.tpep_pickup_datetime <= trips19.tpep_dropoff_datetime]\n",
        "trips19 = trips19[trips19.PULocationID <= 263]\n",
        "trips19 = trips19[trips19.DOLocationID <= 263]"
      ],
      "execution_count": 22,
      "outputs": []
    },
    {
      "cell_type": "code",
      "metadata": {
        "id": "afCRgDHMMpZ0"
      },
      "source": [
        "trips20 = trips20[trips20.tpep_pickup_datetime <= trips20.tpep_dropoff_datetime]\n",
        "trips20 = trips20[trips20.PULocationID <= 263]\n",
        "trips20 = trips20[trips20.DOLocationID <= 263]"
      ],
      "execution_count": 23,
      "outputs": []
    },
    {
      "cell_type": "markdown",
      "metadata": {
        "id": "aGAthEYDMpZ0"
      },
      "source": [
        "Введём новые колонки: \n",
        "\n",
        "1. с датой начала поездки; \n",
        "\n",
        "2. с часом начала и конца;\n",
        "\n",
        "3. с днём недели начала поездки(день конца поездки игнорируем, т.к. почти все поездки будут в промежутке одного дня); \n",
        "\n",
        "4. с временем продолжительности поездки;\n",
        "\n",
        "5. временем поездки в секундах;\n",
        "\n",
        "6. средней скоростью в м/с."
      ]
    },
    {
      "cell_type": "code",
      "metadata": {
        "id": "7hNuLMfcMpZ0"
      },
      "source": [
        "MILES_TO_KM = 1609.34"
      ],
      "execution_count": 24,
      "outputs": []
    },
    {
      "cell_type": "code",
      "metadata": {
        "id": "tFDYbZueMpZ0"
      },
      "source": [
        "trips19['trip_pickup_day'] = trips19.tpep_pickup_datetime.dt.day\n",
        "trips19['week_day'] = trips19.tpep_pickup_datetime.dt.dayofweek\n",
        "trips19['trip_pickup_hour'] = trips19.tpep_pickup_datetime.dt.hour\n",
        "trips19['trip_dropoff_hour'] = trips19.tpep_dropoff_datetime.dt.hour\n",
        "trips19['trip_duration'] = trips19.tpep_dropoff_datetime - trips19.tpep_pickup_datetime\n",
        "trips19['trip_duration_secs'] = trips19.trip_duration.dt.seconds\n",
        "trips19['trip_distance'] = trips19['trip_distance'] * MILES_TO_KM\n",
        "trips19['average_velocity'] = trips19['trip_distance'] / trips19['trip_duration_secs']"
      ],
      "execution_count": 25,
      "outputs": []
    },
    {
      "cell_type": "code",
      "metadata": {
        "id": "PfEfc5icMpZ0"
      },
      "source": [
        "trips20['trip_pickup_day'] = trips20.tpep_pickup_datetime.dt.day\n",
        "trips20['week_day'] = trips20.tpep_pickup_datetime.dt.dayofweek\n",
        "trips20['trip_pickup_hour'] = trips20.tpep_pickup_datetime.dt.hour\n",
        "trips20['trip_dropoff_hour'] = trips20.tpep_dropoff_datetime.dt.hour\n",
        "trips20['trip_duration'] = trips20.tpep_dropoff_datetime - trips20.tpep_pickup_datetime\n",
        "trips20['trip_duration_secs'] = trips20.trip_duration.dt.seconds\n",
        "trips20['trip_distance'] = trips20['trip_distance'] * MILES_TO_KM\n",
        "trips20['average_velocity'] = trips20['trip_distance'] / trips20['trip_duration_secs']"
      ],
      "execution_count": 26,
      "outputs": []
    },
    {
      "cell_type": "markdown",
      "metadata": {
        "id": "WRvJR8yxMpZ0"
      },
      "source": [
        "Посмотрим, есть ли в данных нереальные случаи.\n",
        "\n",
        "Установим ограничение для средней скорости в 50 м/с сверху и 1 м/с снизу, а также удалим строки, в которых преодолено нулевое расстояние за ненулевое время, при этом получена некоторая сумма за поездку.\n",
        "\n",
        "Так же удалим строки с отрицательной стоимостью поездки."
      ]
    },
    {
      "cell_type": "code",
      "metadata": {
        "id": "KaRnOBptMpZ0"
      },
      "source": [
        "trips19 = trips19[trips19.average_velocity <= 50]\n",
        "trips19 = trips19[trips19.average_velocity >= 1]\n",
        "trips19 = trips19.drop(trips19[(trips19.trip_distance == 0) & (trips19.total_amount > 0) & (trips19.trip_duration_secs > 0)].index)\n",
        "trips19 = trips19[trips19.total_amount >= 0]\n",
        "trips19 = trips19[trips19.VendorID < 3]"
      ],
      "execution_count": 27,
      "outputs": []
    },
    {
      "cell_type": "code",
      "metadata": {
        "id": "KwlsK6EdMpZ0"
      },
      "source": [
        "trips20 = trips20[trips20.average_velocity <= 50]\n",
        "trips20 = trips20[trips20.average_velocity >= 1]\n",
        "trips20 = trips20.drop(trips20[(trips20.trip_distance == 0) & (trips20.total_amount > 0) & (trips20.trip_duration_secs > 0)].index)\n",
        "trips20 = trips20[trips20.total_amount >= 0]\n",
        "trips20 = trips20[trips20.VendorID < 3]"
      ],
      "execution_count": 28,
      "outputs": []
    },
    {
      "cell_type": "markdown",
      "metadata": {
        "id": "dL5w2dNWMpZ0"
      },
      "source": [
        "В последний понедельник мая проводится федеральный праздник День Памяти, который является государственным выходным. Установим для дат 27.05.19 и 25.05.20 значение 1 в новой колонке, 0 всем остальным."
      ]
    },
    {
      "cell_type": "code",
      "metadata": {
        "id": "Q3Ips278MpZ0"
      },
      "source": [
        "trips19['is_holiday'] = [x.date().day == 27 for x in trips19['tpep_pickup_datetime']]\n",
        "trips20['is_holiday'] = [x.date().day == 25 for x in trips20['tpep_pickup_datetime']]"
      ],
      "execution_count": 29,
      "outputs": []
    },
    {
      "cell_type": "markdown",
      "metadata": {
        "id": "mpVGZ6_mMpZ0"
      },
      "source": [
        "Посмотрим на некоторые статистики, которые может предоставить python."
      ]
    },
    {
      "cell_type": "code",
      "metadata": {
        "id": "QNvMygChMpZ0",
        "colab": {
          "base_uri": "https://localhost:8080/",
          "height": 351
        },
        "outputId": "62f1e787-dd63-4f1f-f22a-e40dfec2d869"
      },
      "source": [
        "trips19.describe()"
      ],
      "execution_count": 18,
      "outputs": [
        {
          "output_type": "execute_result",
          "data": {
            "text/html": [
              "<div>\n",
              "<style scoped>\n",
              "    .dataframe tbody tr th:only-of-type {\n",
              "        vertical-align: middle;\n",
              "    }\n",
              "\n",
              "    .dataframe tbody tr th {\n",
              "        vertical-align: top;\n",
              "    }\n",
              "\n",
              "    .dataframe thead th {\n",
              "        text-align: right;\n",
              "    }\n",
              "</style>\n",
              "<table border=\"1\" class=\"dataframe\">\n",
              "  <thead>\n",
              "    <tr style=\"text-align: right;\">\n",
              "      <th></th>\n",
              "      <th>VendorID</th>\n",
              "      <th>passenger_count</th>\n",
              "      <th>trip_distance</th>\n",
              "      <th>RatecodeID</th>\n",
              "      <th>PULocationID</th>\n",
              "      <th>DOLocationID</th>\n",
              "      <th>payment_type</th>\n",
              "      <th>fare_amount</th>\n",
              "      <th>extra</th>\n",
              "      <th>mta_tax</th>\n",
              "      <th>tip_amount</th>\n",
              "      <th>tolls_amount</th>\n",
              "      <th>improvement_surcharge</th>\n",
              "      <th>total_amount</th>\n",
              "      <th>congestion_surcharge</th>\n",
              "      <th>trip_pickup_day</th>\n",
              "      <th>week_day</th>\n",
              "      <th>trip_pickup_hour</th>\n",
              "      <th>trip_dropoff_hour</th>\n",
              "      <th>trip_duration</th>\n",
              "      <th>trip_duration_secs</th>\n",
              "      <th>average_velocity</th>\n",
              "    </tr>\n",
              "  </thead>\n",
              "  <tbody>\n",
              "    <tr>\n",
              "      <th>count</th>\n",
              "      <td>7336825.00000</td>\n",
              "      <td>7336825.00000</td>\n",
              "      <td>7336825.00000</td>\n",
              "      <td>7336825.00000</td>\n",
              "      <td>7336825.00000</td>\n",
              "      <td>7336825.00000</td>\n",
              "      <td>7336825.00000</td>\n",
              "      <td>7336825.00000</td>\n",
              "      <td>7336825.00000</td>\n",
              "      <td>7336825.00000</td>\n",
              "      <td>7336825.00000</td>\n",
              "      <td>7336825.00000</td>\n",
              "      <td>7336825.00000</td>\n",
              "      <td>7336825.00000</td>\n",
              "      <td>7336825.00000</td>\n",
              "      <td>7336825.00000</td>\n",
              "      <td>7336825.00000</td>\n",
              "      <td>7336825.00000</td>\n",
              "      <td>7336825.00000</td>\n",
              "      <td>7336825</td>\n",
              "      <td>7336825.00000</td>\n",
              "      <td>7336825.00000</td>\n",
              "    </tr>\n",
              "    <tr>\n",
              "      <th>mean</th>\n",
              "      <td>1.63076</td>\n",
              "      <td>1.57271</td>\n",
              "      <td>4875.00001</td>\n",
              "      <td>1.03650</td>\n",
              "      <td>162.61978</td>\n",
              "      <td>160.66925</td>\n",
              "      <td>1.28009</td>\n",
              "      <td>13.21114</td>\n",
              "      <td>1.20345</td>\n",
              "      <td>0.49863</td>\n",
              "      <td>2.23998</td>\n",
              "      <td>0.38749</td>\n",
              "      <td>0.29997</td>\n",
              "      <td>19.30241</td>\n",
              "      <td>2.31638</td>\n",
              "      <td>15.47562</td>\n",
              "      <td>2.99066</td>\n",
              "      <td>13.97302</td>\n",
              "      <td>14.01989</td>\n",
              "      <td>0 days 00:14:59.757923488</td>\n",
              "      <td>899.74615</td>\n",
              "      <td>5.00345</td>\n",
              "    </tr>\n",
              "    <tr>\n",
              "      <th>std</th>\n",
              "      <td>0.48260</td>\n",
              "      <td>1.22277</td>\n",
              "      <td>6172.17999</td>\n",
              "      <td>0.50351</td>\n",
              "      <td>65.81508</td>\n",
              "      <td>69.81401</td>\n",
              "      <td>0.46402</td>\n",
              "      <td>11.15887</td>\n",
              "      <td>1.28250</td>\n",
              "      <td>0.02630</td>\n",
              "      <td>2.66822</td>\n",
              "      <td>1.67773</td>\n",
              "      <td>0.00301</td>\n",
              "      <td>13.93306</td>\n",
              "      <td>0.65217</td>\n",
              "      <td>8.93420</td>\n",
              "      <td>1.84339</td>\n",
              "      <td>5.99837</td>\n",
              "      <td>6.08824</td>\n",
              "      <td>0 days 00:12:26.533958316</td>\n",
              "      <td>745.51501</td>\n",
              "      <td>2.71636</td>\n",
              "    </tr>\n",
              "    <tr>\n",
              "      <th>min</th>\n",
              "      <td>1.00000</td>\n",
              "      <td>0.00000</td>\n",
              "      <td>16.09340</td>\n",
              "      <td>1.00000</td>\n",
              "      <td>1.00000</td>\n",
              "      <td>1.00000</td>\n",
              "      <td>1.00000</td>\n",
              "      <td>0.00000</td>\n",
              "      <td>0.00000</td>\n",
              "      <td>0.00000</td>\n",
              "      <td>0.00000</td>\n",
              "      <td>0.00000</td>\n",
              "      <td>0.00000</td>\n",
              "      <td>0.00000</td>\n",
              "      <td>0.00000</td>\n",
              "      <td>1.00000</td>\n",
              "      <td>0.00000</td>\n",
              "      <td>0.00000</td>\n",
              "      <td>0.00000</td>\n",
              "      <td>0 days 00:00:02</td>\n",
              "      <td>2.00000</td>\n",
              "      <td>1.00005</td>\n",
              "    </tr>\n",
              "    <tr>\n",
              "      <th>25%</th>\n",
              "      <td>1.00000</td>\n",
              "      <td>1.00000</td>\n",
              "      <td>1609.34000</td>\n",
              "      <td>1.00000</td>\n",
              "      <td>114.00000</td>\n",
              "      <td>107.00000</td>\n",
              "      <td>1.00000</td>\n",
              "      <td>6.50000</td>\n",
              "      <td>0.00000</td>\n",
              "      <td>0.50000</td>\n",
              "      <td>0.00000</td>\n",
              "      <td>0.00000</td>\n",
              "      <td>0.30000</td>\n",
              "      <td>11.30000</td>\n",
              "      <td>2.50000</td>\n",
              "      <td>8.00000</td>\n",
              "      <td>2.00000</td>\n",
              "      <td>10.00000</td>\n",
              "      <td>10.00000</td>\n",
              "      <td>0 days 00:06:54</td>\n",
              "      <td>414.00000</td>\n",
              "      <td>3.21868</td>\n",
              "    </tr>\n",
              "    <tr>\n",
              "      <th>50%</th>\n",
              "      <td>2.00000</td>\n",
              "      <td>1.00000</td>\n",
              "      <td>2703.69120</td>\n",
              "      <td>1.00000</td>\n",
              "      <td>162.00000</td>\n",
              "      <td>162.00000</td>\n",
              "      <td>1.00000</td>\n",
              "      <td>9.50000</td>\n",
              "      <td>0.50000</td>\n",
              "      <td>0.50000</td>\n",
              "      <td>1.96000</td>\n",
              "      <td>0.00000</td>\n",
              "      <td>0.30000</td>\n",
              "      <td>14.80000</td>\n",
              "      <td>2.50000</td>\n",
              "      <td>15.00000</td>\n",
              "      <td>3.00000</td>\n",
              "      <td>15.00000</td>\n",
              "      <td>15.00000</td>\n",
              "      <td>0 days 00:11:31</td>\n",
              "      <td>691.00000</td>\n",
              "      <td>4.36705</td>\n",
              "    </tr>\n",
              "    <tr>\n",
              "      <th>75%</th>\n",
              "      <td>2.00000</td>\n",
              "      <td>2.00000</td>\n",
              "      <td>4988.95400</td>\n",
              "      <td>1.00000</td>\n",
              "      <td>233.00000</td>\n",
              "      <td>233.00000</td>\n",
              "      <td>2.00000</td>\n",
              "      <td>15.00000</td>\n",
              "      <td>2.50000</td>\n",
              "      <td>0.50000</td>\n",
              "      <td>3.00000</td>\n",
              "      <td>0.00000</td>\n",
              "      <td>0.30000</td>\n",
              "      <td>20.80000</td>\n",
              "      <td>2.50000</td>\n",
              "      <td>23.00000</td>\n",
              "      <td>4.00000</td>\n",
              "      <td>19.00000</td>\n",
              "      <td>19.00000</td>\n",
              "      <td>0 days 00:18:55</td>\n",
              "      <td>1135.00000</td>\n",
              "      <td>5.98535</td>\n",
              "    </tr>\n",
              "    <tr>\n",
              "      <th>max</th>\n",
              "      <td>2.00000</td>\n",
              "      <td>9.00000</td>\n",
              "      <td>319196.49560</td>\n",
              "      <td>99.00000</td>\n",
              "      <td>263.00000</td>\n",
              "      <td>263.00000</td>\n",
              "      <td>4.00000</td>\n",
              "      <td>4016.50000</td>\n",
              "      <td>23.00000</td>\n",
              "      <td>3.30000</td>\n",
              "      <td>444.00000</td>\n",
              "      <td>706.68000</td>\n",
              "      <td>0.30000</td>\n",
              "      <td>4020.30000</td>\n",
              "      <td>2.75000</td>\n",
              "      <td>31.00000</td>\n",
              "      <td>6.00000</td>\n",
              "      <td>23.00000</td>\n",
              "      <td>23.00000</td>\n",
              "      <td>1 days 06:10:50</td>\n",
              "      <td>51841.00000</td>\n",
              "      <td>49.97424</td>\n",
              "    </tr>\n",
              "  </tbody>\n",
              "</table>\n",
              "</div>"
            ],
            "text/plain": [
              "           VendorID  passenger_count  ...  trip_duration_secs  average_velocity\n",
              "count 7336825.00000    7336825.00000  ...       7336825.00000     7336825.00000\n",
              "mean        1.63076          1.57271  ...           899.74615           5.00345\n",
              "std         0.48260          1.22277  ...           745.51501           2.71636\n",
              "min         1.00000          0.00000  ...             2.00000           1.00005\n",
              "25%         1.00000          1.00000  ...           414.00000           3.21868\n",
              "50%         2.00000          1.00000  ...           691.00000           4.36705\n",
              "75%         2.00000          2.00000  ...          1135.00000           5.98535\n",
              "max         2.00000          9.00000  ...         51841.00000          49.97424\n",
              "\n",
              "[8 rows x 22 columns]"
            ]
          },
          "metadata": {
            "tags": []
          },
          "execution_count": 18
        }
      ]
    },
    {
      "cell_type": "code",
      "metadata": {
        "id": "c7Bqc_x6MpZ1",
        "colab": {
          "base_uri": "https://localhost:8080/",
          "height": 351
        },
        "outputId": "3ea6c03d-8192-4030-c3eb-1d32a1ef9ff6"
      },
      "source": [
        "trips20.describe()"
      ],
      "execution_count": 19,
      "outputs": [
        {
          "output_type": "execute_result",
          "data": {
            "text/html": [
              "<div>\n",
              "<style scoped>\n",
              "    .dataframe tbody tr th:only-of-type {\n",
              "        vertical-align: middle;\n",
              "    }\n",
              "\n",
              "    .dataframe tbody tr th {\n",
              "        vertical-align: top;\n",
              "    }\n",
              "\n",
              "    .dataframe thead th {\n",
              "        text-align: right;\n",
              "    }\n",
              "</style>\n",
              "<table border=\"1\" class=\"dataframe\">\n",
              "  <thead>\n",
              "    <tr style=\"text-align: right;\">\n",
              "      <th></th>\n",
              "      <th>VendorID</th>\n",
              "      <th>passenger_count</th>\n",
              "      <th>trip_distance</th>\n",
              "      <th>RatecodeID</th>\n",
              "      <th>PULocationID</th>\n",
              "      <th>DOLocationID</th>\n",
              "      <th>payment_type</th>\n",
              "      <th>fare_amount</th>\n",
              "      <th>extra</th>\n",
              "      <th>mta_tax</th>\n",
              "      <th>tip_amount</th>\n",
              "      <th>tolls_amount</th>\n",
              "      <th>improvement_surcharge</th>\n",
              "      <th>total_amount</th>\n",
              "      <th>congestion_surcharge</th>\n",
              "      <th>trip_pickup_day</th>\n",
              "      <th>week_day</th>\n",
              "      <th>trip_pickup_hour</th>\n",
              "      <th>trip_dropoff_hour</th>\n",
              "      <th>trip_duration</th>\n",
              "      <th>trip_duration_secs</th>\n",
              "      <th>average_velocity</th>\n",
              "    </tr>\n",
              "  </thead>\n",
              "  <tbody>\n",
              "    <tr>\n",
              "      <th>count</th>\n",
              "      <td>330471.00000</td>\n",
              "      <td>330471.00000</td>\n",
              "      <td>330471.00000</td>\n",
              "      <td>330471.00000</td>\n",
              "      <td>330471.00000</td>\n",
              "      <td>330471.00000</td>\n",
              "      <td>330471.00000</td>\n",
              "      <td>330471.00000</td>\n",
              "      <td>330471.00000</td>\n",
              "      <td>330471.00000</td>\n",
              "      <td>330471.00000</td>\n",
              "      <td>330471.00000</td>\n",
              "      <td>330471.00000</td>\n",
              "      <td>330471.00000</td>\n",
              "      <td>330471.00000</td>\n",
              "      <td>330471.00000</td>\n",
              "      <td>330471.00000</td>\n",
              "      <td>330471.00000</td>\n",
              "      <td>330471.00000</td>\n",
              "      <td>330471</td>\n",
              "      <td>330471.00000</td>\n",
              "      <td>330471.00000</td>\n",
              "    </tr>\n",
              "    <tr>\n",
              "      <th>mean</th>\n",
              "      <td>1.64588</td>\n",
              "      <td>1.26830</td>\n",
              "      <td>5997.37083</td>\n",
              "      <td>1.01357</td>\n",
              "      <td>152.11257</td>\n",
              "      <td>147.27823</td>\n",
              "      <td>1.34259</td>\n",
              "      <td>13.34287</td>\n",
              "      <td>0.98605</td>\n",
              "      <td>0.49594</td>\n",
              "      <td>1.45781</td>\n",
              "      <td>0.39342</td>\n",
              "      <td>0.29993</td>\n",
              "      <td>18.14100</td>\n",
              "      <td>1.90850</td>\n",
              "      <td>16.38488</td>\n",
              "      <td>3.00259</td>\n",
              "      <td>13.10049</td>\n",
              "      <td>13.15487</td>\n",
              "      <td>0 days 00:11:47.171597507</td>\n",
              "      <td>707.17160</td>\n",
              "      <td>7.45323</td>\n",
              "    </tr>\n",
              "    <tr>\n",
              "      <th>std</th>\n",
              "      <td>0.47825</td>\n",
              "      <td>0.91647</td>\n",
              "      <td>7241.93656</td>\n",
              "      <td>0.34777</td>\n",
              "      <td>70.28768</td>\n",
              "      <td>74.10171</td>\n",
              "      <td>0.50750</td>\n",
              "      <td>12.05296</td>\n",
              "      <td>1.25061</td>\n",
              "      <td>0.04519</td>\n",
              "      <td>2.41877</td>\n",
              "      <td>1.74630</td>\n",
              "      <td>0.00449</td>\n",
              "      <td>13.44482</td>\n",
              "      <td>1.06249</td>\n",
              "      <td>8.83033</td>\n",
              "      <td>1.87694</td>\n",
              "      <td>5.30301</td>\n",
              "      <td>5.33937</td>\n",
              "      <td>0 days 00:09:58.915852939</td>\n",
              "      <td>598.91585</td>\n",
              "      <td>3.34638</td>\n",
              "    </tr>\n",
              "    <tr>\n",
              "      <th>min</th>\n",
              "      <td>1.00000</td>\n",
              "      <td>0.00000</td>\n",
              "      <td>16.09340</td>\n",
              "      <td>1.00000</td>\n",
              "      <td>1.00000</td>\n",
              "      <td>1.00000</td>\n",
              "      <td>1.00000</td>\n",
              "      <td>-10.86000</td>\n",
              "      <td>0.00000</td>\n",
              "      <td>0.00000</td>\n",
              "      <td>0.00000</td>\n",
              "      <td>0.00000</td>\n",
              "      <td>0.00000</td>\n",
              "      <td>0.00000</td>\n",
              "      <td>0.00000</td>\n",
              "      <td>1.00000</td>\n",
              "      <td>0.00000</td>\n",
              "      <td>0.00000</td>\n",
              "      <td>0.00000</td>\n",
              "      <td>0 days 00:00:02</td>\n",
              "      <td>2.00000</td>\n",
              "      <td>1.00236</td>\n",
              "    </tr>\n",
              "    <tr>\n",
              "      <th>25%</th>\n",
              "      <td>1.00000</td>\n",
              "      <td>1.00000</td>\n",
              "      <td>1770.27400</td>\n",
              "      <td>1.00000</td>\n",
              "      <td>90.00000</td>\n",
              "      <td>75.00000</td>\n",
              "      <td>1.00000</td>\n",
              "      <td>6.00000</td>\n",
              "      <td>0.00000</td>\n",
              "      <td>0.50000</td>\n",
              "      <td>0.00000</td>\n",
              "      <td>0.00000</td>\n",
              "      <td>0.30000</td>\n",
              "      <td>10.30000</td>\n",
              "      <td>2.50000</td>\n",
              "      <td>9.00000</td>\n",
              "      <td>1.00000</td>\n",
              "      <td>9.00000</td>\n",
              "      <td>9.00000</td>\n",
              "      <td>0 days 00:05:14</td>\n",
              "      <td>314.00000</td>\n",
              "      <td>5.16873</td>\n",
              "    </tr>\n",
              "    <tr>\n",
              "      <th>50%</th>\n",
              "      <td>2.00000</td>\n",
              "      <td>1.00000</td>\n",
              "      <td>3283.05360</td>\n",
              "      <td>1.00000</td>\n",
              "      <td>142.00000</td>\n",
              "      <td>143.00000</td>\n",
              "      <td>1.00000</td>\n",
              "      <td>9.00000</td>\n",
              "      <td>0.00000</td>\n",
              "      <td>0.50000</td>\n",
              "      <td>1.00000</td>\n",
              "      <td>0.00000</td>\n",
              "      <td>0.30000</td>\n",
              "      <td>13.80000</td>\n",
              "      <td>2.50000</td>\n",
              "      <td>16.00000</td>\n",
              "      <td>3.00000</td>\n",
              "      <td>14.00000</td>\n",
              "      <td>14.00000</td>\n",
              "      <td>0 days 00:08:55</td>\n",
              "      <td>535.00000</td>\n",
              "      <td>6.63645</td>\n",
              "    </tr>\n",
              "    <tr>\n",
              "      <th>75%</th>\n",
              "      <td>2.00000</td>\n",
              "      <td>1.00000</td>\n",
              "      <td>6920.16200</td>\n",
              "      <td>1.00000</td>\n",
              "      <td>230.00000</td>\n",
              "      <td>230.00000</td>\n",
              "      <td>2.00000</td>\n",
              "      <td>15.50000</td>\n",
              "      <td>2.50000</td>\n",
              "      <td>0.50000</td>\n",
              "      <td>2.46000</td>\n",
              "      <td>0.00000</td>\n",
              "      <td>0.30000</td>\n",
              "      <td>20.76000</td>\n",
              "      <td>2.50000</td>\n",
              "      <td>24.00000</td>\n",
              "      <td>4.00000</td>\n",
              "      <td>17.00000</td>\n",
              "      <td>17.00000</td>\n",
              "      <td>0 days 00:15:13</td>\n",
              "      <td>913.00000</td>\n",
              "      <td>8.83707</td>\n",
              "    </tr>\n",
              "    <tr>\n",
              "      <th>max</th>\n",
              "      <td>2.00000</td>\n",
              "      <td>6.00000</td>\n",
              "      <td>491009.63400</td>\n",
              "      <td>99.00000</td>\n",
              "      <td>263.00000</td>\n",
              "      <td>263.00000</td>\n",
              "      <td>4.00000</td>\n",
              "      <td>801.50000</td>\n",
              "      <td>7.00000</td>\n",
              "      <td>3.30000</td>\n",
              "      <td>442.18000</td>\n",
              "      <td>200.00000</td>\n",
              "      <td>0.30000</td>\n",
              "      <td>1042.82000</td>\n",
              "      <td>2.50000</td>\n",
              "      <td>31.00000</td>\n",
              "      <td>6.00000</td>\n",
              "      <td>23.00000</td>\n",
              "      <td>23.00000</td>\n",
              "      <td>0 days 11:56:00</td>\n",
              "      <td>42960.00000</td>\n",
              "      <td>49.97082</td>\n",
              "    </tr>\n",
              "  </tbody>\n",
              "</table>\n",
              "</div>"
            ],
            "text/plain": [
              "          VendorID  passenger_count  ...  trip_duration_secs  average_velocity\n",
              "count 330471.00000     330471.00000  ...        330471.00000      330471.00000\n",
              "mean       1.64588          1.26830  ...           707.17160           7.45323\n",
              "std        0.47825          0.91647  ...           598.91585           3.34638\n",
              "min        1.00000          0.00000  ...             2.00000           1.00236\n",
              "25%        1.00000          1.00000  ...           314.00000           5.16873\n",
              "50%        2.00000          1.00000  ...           535.00000           6.63645\n",
              "75%        2.00000          1.00000  ...           913.00000           8.83707\n",
              "max        2.00000          6.00000  ...         42960.00000          49.97082\n",
              "\n",
              "[8 rows x 22 columns]"
            ]
          },
          "metadata": {
            "tags": []
          },
          "execution_count": 19
        }
      ]
    },
    {
      "cell_type": "markdown",
      "metadata": {
        "id": "4Pz6SD4bMpZ1"
      },
      "source": [
        "Из describe можем сделать несколько выводов:\n",
        "0. Среднее количество пассажиров снизилось с 1.57 до 1.27 из-за социального дистанцирования. Также максимальное количество уменьшилось от 9 до 6 человек(среди жёлтых такси так же есть минивены, потому такое большое количество неудивительно).\n",
        "1. Средняя дистанция в 20м году выросла с 5км до 6км. Можем сделать вывод, что люди стали чаще пользоваться такси для каких-то длительных поездок, ведь если расстояние небольшое, может быть рентабельнее просто пойти пешком, чтобы ни с кем зря не контактировать.\n",
        "2. Несмотря на увеличение дистанции средняя продолжительность поездки уменьшилась(соответственно выросла средняя скорость) из-за меньшей загруженности дорог.\n"
      ]
    },
    {
      "cell_type": "markdown",
      "metadata": {
        "id": "q6dk5RQaMpZ1"
      },
      "source": [
        "### Получим представление о районах Нью-Йорка."
      ]
    },
    {
      "cell_type": "markdown",
      "metadata": {
        "id": "_YI0fVRVMpZ1"
      },
      "source": [
        "В Нью-Йорке есть 5 основных районов: Manhattan, Queens, Brooklyn, Staten Island и Bronx."
      ]
    },
    {
      "cell_type": "markdown",
      "metadata": {
        "id": "yYal--YYMpZ1"
      },
      "source": [
        "![ny_map](pictures/ny_map.jpg)\n"
      ]
    },
    {
      "cell_type": "markdown",
      "metadata": {
        "id": "OqNnRxZVMpZ1"
      },
      "source": [
        "Manhattan является главным туристическим местом, а также скоплением главных бизнес-центров Нью-Йорка. Тут очень развита инфраструктура  (не)активного времяпрепровождения."
      ]
    },
    {
      "cell_type": "markdown",
      "metadata": {
        "id": "LKn7GmC5MpZ1"
      },
      "source": [
        "Queens является одним из наиболее \"спальных\" районов города. Однако тут расположен Национальный аэропорт имени Джона Кеннеди - аэропорт с самым большим трафиком пассажирских и грузовых авиаперевозок в мире, что в купе с тем фактом, что тут происходит множество спортивных мероприятий, добавляет посещаемости приезжими."
      ]
    },
    {
      "cell_type": "markdown",
      "metadata": {
        "id": "pIq55szKMpZ1"
      },
      "source": [
        "Brooklyn - самый населённый район Нью-Йорка. При этом тут очень развита инфраструктура локальных мероприятий, что позволяет жителям не ездить куда-то, а \"жить на месте\"."
      ]
    },
    {
      "cell_type": "markdown",
      "metadata": {
        "id": "cg5GGkI1MpZ1"
      },
      "source": [
        "В Bronx'е находится печально известный своей неблагополучностью квартал Camp Apache. Однако сейчас там всё спокойно. Более того, среди туристов имеют популярность несколько иностранных кварталов"
      ]
    },
    {
      "cell_type": "markdown",
      "metadata": {
        "id": "FIFmxXmqMpZ1"
      },
      "source": [
        "Staten Island - самый тихий район с наименьшей численностью населения. Туристов сюда не тянет в силу того, что тут \"почти не на что смотреть\". Однако с его замечательной природой можно отдохнуть от суеты других районов."
      ]
    },
    {
      "cell_type": "markdown",
      "metadata": {
        "id": "Z3-LjnkoMpZ1"
      },
      "source": [
        "### Визуализируем данные."
      ]
    },
    {
      "cell_type": "markdown",
      "metadata": {
        "id": "m1RBULKWUEtr"
      },
      "source": [
        "Тут мы чаще будем пытаться отследить тенденцию к поведению пользователей(например популярность одного дня недели относительно других), но иногда будем наблюдать и за численными показателями.\n"
      ]
    },
    {
      "cell_type": "code",
      "metadata": {
        "id": "WTO7wl2xMpZ1"
      },
      "source": [
        "# зададим размер графиков\n",
        "plt.rcParams['figure.dpi'] = 90"
      ],
      "execution_count": 30,
      "outputs": []
    },
    {
      "cell_type": "code",
      "metadata": {
        "id": "VblkD-Z5MpZ1",
        "colab": {
          "base_uri": "https://localhost:8080/",
          "height": 0
        },
        "outputId": "e56091cb-970f-4348-bb18-bfa595a07cb4"
      },
      "source": [
        "sns.displot(trips19, x='week_day')\n",
        "plt.xlabel('День недели')\n",
        "plt.ylabel('Кол-во')\n",
        "sns.displot(trips20, x='week_day')\n",
        "plt.xlabel('День недели')\n",
        "plt.ylabel('Кол-во')"
      ],
      "execution_count": 31,
      "outputs": [
        {
          "output_type": "execute_result",
          "data": {
            "text/plain": [
              "Text(-13.374999999999993, 0.5, 'Кол-во')"
            ]
          },
          "metadata": {
            "tags": []
          },
          "execution_count": 31
        },
        {
          "output_type": "display_data",
          "data": {
            "image/png": "[encoded data removed]",
            "text/plain": [
              "<Figure size 450x450 with 1 Axes>"
            ]
          },
          "metadata": {
            "tags": [],
            "needs_background": "light"
          }
        },
        {
          "output_type": "display_data",
          "data": {
            "image/png": "[encoded data removed]",
            "text/plain": [
              "<Figure size 450x450 with 1 Axes>"
            ]
          },
          "metadata": {
            "tags": [],
            "needs_background": "light"
          }
        }
      ]
    },
    {
      "cell_type": "markdown",
      "metadata": {
        "id": "1bE7AI6QMpZ1"
      },
      "source": [
        "Выше видим выброс в пятницу в 2020м году. Возможно это объясняется режимом самоизоляции, который очень хочется нарушить в конце рабочей недели(либо в целом возвращение с работы домой, если это не является ежедневной рутиной).\n",
        "\n",
        "В противоложность этому основная нагрузка в 19м году приходится на середину рабочей недели. Возможно, причина этому тот факт, что вторник является самым удачным днём для сложных задач, а дальше уже хочется немного поотлынивать, потому жители занимаются своими делами, в том числе разъездами([link](https://secretmag.ru/opinions/ponedelnik-kak-socialnyj-konstrukt-chto-ne-tak-s-dnyami-nedeli.htm))."
      ]
    },
    {
      "cell_type": "code",
      "metadata": {
        "scrolled": false,
        "id": "3VqzojDzMpZ1",
        "colab": {
          "base_uri": "https://localhost:8080/",
          "height": 0
        },
        "outputId": "e1b6f3f4-9c35-486a-fe9c-3574d2ee7619"
      },
      "source": [
        "sns.displot(trips19.trip_pickup_hour)\n",
        "plt.xlabel('Время дня')\n",
        "plt.ylabel('Кол-во')\n",
        "sns.displot(trips20.trip_pickup_hour)\n",
        "plt.xlabel('Время дня')\n",
        "plt.ylabel('Кол-во')"
      ],
      "execution_count": 33,
      "outputs": [
        {
          "output_type": "execute_result",
          "data": {
            "text/plain": [
              "Text(-13.374999999999993, 0.5, 'Кол-во')"
            ]
          },
          "metadata": {
            "tags": []
          },
          "execution_count": 33
        },
        {
          "output_type": "display_data",
          "data": {
            "image/png": "[encoded data removed]",
            "text/plain": [
              "<Figure size 450x450 with 1 Axes>"
            ]
          },
          "metadata": {
            "tags": [],
            "needs_background": "light"
          }
        },
        {
          "output_type": "display_data",
          "data": {
            "image/png": "[encoded data removed]",
            "text/plain": [
              "<Figure size 450x450 with 1 Axes>"
            ]
          },
          "metadata": {
            "tags": [],
            "needs_background": "light"
          }
        }
      ]
    },
    {
      "cell_type": "markdown",
      "metadata": {
        "id": "SqOLkIO3MpZ2"
      },
      "source": [
        "В 19 году видим основную нагрузку на 6-7 часов вечера, т.к. жители возвращаются с работы попутно заезжая по делам.\n",
        "\n",
        "Однако в 20м году пик приходится на 3 часа дня. Возможно это потому что весь город подумал, что днём будет мало людей на улицах из-за работы и побежал делать свои дела."
      ]
    },
    {
      "cell_type": "code",
      "metadata": {
        "id": "dOHkrGqvMpZ2",
        "colab": {
          "base_uri": "https://localhost:8080/",
          "height": 0
        },
        "outputId": "eeee3222-3763-41a6-ebfd-e516a051dc3b"
      },
      "source": [
        "sns.displot(trips19, x='trip_pickup_day')\n",
        "plt.xlabel('Число')\n",
        "plt.ylabel('Кол-во')\n",
        "sns.displot(trips20, x='trip_pickup_day')\n",
        "plt.xlabel('Число')\n",
        "plt.ylabel('Кол-во')"
      ],
      "execution_count": 34,
      "outputs": [
        {
          "output_type": "execute_result",
          "data": {
            "text/plain": [
              "Text(-13.374999999999993, 0.5, 'Кол-во')"
            ]
          },
          "metadata": {
            "tags": []
          },
          "execution_count": 34
        },
        {
          "output_type": "display_data",
          "data": {
            "image/png": "[encoded data removed]",
            "text/plain": [
              "<Figure size 450x450 with 1 Axes>"
            ]
          },
          "metadata": {
            "tags": [],
            "needs_background": "light"
          }
        },
        {
          "output_type": "display_data",
          "data": {
            "image/png": "[encoded data removed]",
            "text/plain": [
              "<Figure size 450x450 with 1 Axes>"
            ]
          },
          "metadata": {
            "tags": [],
            "needs_background": "light"
          }
        }
      ]
    },
    {
      "cell_type": "markdown",
      "metadata": {
        "id": "fI5vBpmTMpZ2"
      },
      "source": [
        "В оба года видим снижения использования средств передвижение во время выходных. Однако в 19м году имеется тенденция к постепенному снижению использования такси в течение рабочих дней(люди начинают готовится к отпуску и собственно отдыхать), тогда как в 20м году правило обратно: использование повышается, - тут это обуславливается тем, что люди уже устали сидеть некоторое время на карантине и начинают \"подзабивать\" на рекомендации самоизоляции.\n",
        "\n",
        "Также отметим резкое(даже относительно выходных) снижение поездок 27.05.2019 и 25.05.2020, т.к. в этот день федеральный праздник День Памяти, являющийся выходным."
      ]
    },
    {
      "cell_type": "code",
      "metadata": {
        "id": "gtAX6w2tMpZ2",
        "colab": {
          "base_uri": "https://localhost:8080/",
          "height": 0
        },
        "outputId": "0c88e550-d3cf-466a-802f-e5657c77b48b"
      },
      "source": [
        "sns.displot(trips19, x='trip_duration_secs', hue='VendorID')\n",
        "plt.xlim(0, 5000)\n",
        "plt.xlabel('Длительность(сек)')\n",
        "plt.ylabel('Кол-во')\n",
        "sns.displot(trips20, x='trip_duration_secs', hue='VendorID')\n",
        "plt.xlim(0, 5000)\n",
        "plt.xlabel('Длительность(сек)')\n",
        "plt.ylabel('Кол-во')"
      ],
      "execution_count": 35,
      "outputs": [
        {
          "output_type": "execute_result",
          "data": {
            "text/plain": [
              "Text(3.7750000000000057, 0.5, 'Кол-во')"
            ]
          },
          "metadata": {
            "tags": []
          },
          "execution_count": 35
        },
        {
          "output_type": "display_data",
          "data": {
            "image/png": "[encoded data removed]",
            "text/plain": [
              "<Figure size 530x450 with 1 Axes>"
            ]
          },
          "metadata": {
            "tags": [],
            "needs_background": "light"
          }
        },
        {
          "output_type": "display_data",
          "data": {
            "image/png": "[encoded data removed]",
            "text/plain": [
              "<Figure size 530x450 with 1 Axes>"
            ]
          },
          "metadata": {
            "tags": [],
            "needs_background": "light"
          }
        }
      ]
    },
    {
      "cell_type": "markdown",
      "metadata": {
        "id": "9Nc4WoMcMpZ2"
      },
      "source": [
        "Похоже на распределение Пуассона или Максвелла.\n",
        "\n",
        "На 2м графике существуют видимые выбросы. Возможно это из-за частых поездок по более популярным маршрутам, которых, как мы видим, существует очень много(например из района Manhattan до аэропорта имени Джона Кеннеди).\n",
        "\n",
        "Легко увидеть, что пользователи совершают очень много коротких поездок(до 30 минут) и очень мало длинных(более часа). На ум приходят две причины: немалая стоимость длинной поездки + средний пассажир ездит ради скорости  и независимости от большинства других факторов(расписание общественного транспорта, движение от точки до точки).\n",
        "\n",
        "Также видим, что в целом за год появилась тенденция ещё больше использовать в качестве перевозчика компанию №1. Возможно это связано с какими-то локальными улучшениями."
      ]
    },
    {
      "cell_type": "code",
      "metadata": {
        "id": "HlVK1mcZMpZ2",
        "colab": {
          "base_uri": "https://localhost:8080/",
          "height": 0
        },
        "outputId": "8be0c639-ec9f-40d6-ed61-b529742f3869"
      },
      "source": [
        "sns.scatterplot(data=trips19, x=trips19['trip_distance'], y=trips19['trip_duration_secs'])\n",
        "sns.scatterplot(data=trips20, x=trips20['trip_distance'], y=trips20['trip_duration_secs'])\n",
        "plt.xlabel('Расстояние(м)')\n",
        "plt.ylabel('Длительность(сек)')"
      ],
      "execution_count": 36,
      "outputs": [
        {
          "output_type": "execute_result",
          "data": {
            "text/plain": [
              "Text(0, 0.5, 'Длительность(сек)')"
            ]
          },
          "metadata": {
            "tags": []
          },
          "execution_count": 36
        },
        {
          "output_type": "display_data",
          "data": {
            "image/png": "[encoded data removed]",
            "text/plain": [
              "<Figure size 540x360 with 1 Axes>"
            ]
          },
          "metadata": {
            "tags": [],
            "needs_background": "light"
          }
        }
      ]
    },
    {
      "cell_type": "markdown",
      "metadata": {
        "id": "6Fm9xn1YMpZ2"
      },
      "source": [
        "По графику зависимости времени поездки от расстояния можем понять, что в целом они распределены примерно одинаково относительно друг друга(этому виной в том числе и то, как мы убирали выбросы), т.е. эпидемия повлияла в данном случае только на количество поездок и уменьшение числа длительных поездок.\n",
        "\n",
        "Однако есть очень много поездок с короткими дистанциями, но значительным временем. Это может объясняться большим трафиком в загруженные части дня. Как видим, систематически такой проблемы в 20м году не наблюдалось в силу того, что в целом загруженность узлов была меньше $\\implies$ меньше пробок."
      ]
    },
    {
      "cell_type": "code",
      "metadata": {
        "id": "dbO2S8U0MpZ2",
        "colab": {
          "base_uri": "https://localhost:8080/",
          "height": 0
        },
        "outputId": "46a28038-a750-49b3-e4ee-72250633998d"
      },
      "source": [
        "sns.displot(trips19, x='average_velocity', hue='VendorID')\n",
        "plt.xlim(0, 25)\n",
        "plt.xlabel('Средняя скорость')\n",
        "plt.ylabel('Кол-во')\n",
        "sns.displot(trips20, x='average_velocity', hue='VendorID')\n",
        "plt.xlim(0, 25)\n",
        "plt.xlabel('Средняя скорость')\n",
        "plt.ylabel('Кол-во')"
      ],
      "execution_count": 37,
      "outputs": [
        {
          "output_type": "execute_result",
          "data": {
            "text/plain": [
              "Text(3.7750000000000057, 0.5, 'Кол-во')"
            ]
          },
          "metadata": {
            "tags": []
          },
          "execution_count": 37
        },
        {
          "output_type": "display_data",
          "data": {
            "image/png": "[encoded data removed]",
            "text/plain": [
              "<Figure size 530x450 with 1 Axes>"
            ]
          },
          "metadata": {
            "tags": [],
            "needs_background": "light"
          }
        },
        {
          "output_type": "display_data",
          "data": {
            "image/png": "[encoded data removed]",
            "text/plain": [
              "<Figure size 530x450 with 1 Axes>"
            ]
          },
          "metadata": {
            "tags": [],
            "needs_background": "light"
          }
        }
      ]
    },
    {
      "cell_type": "markdown",
      "metadata": {
        "id": "eftZGJbuMpZ3"
      },
      "source": [
        "Видим уже знакомое распределение. Пики расположены около средних скоростей, которые составляют соответственно 18 и 27 км/ч, что вполне нормально для Нью-Йорка с его трафиком и пробками. Для передвижения со скоростью выше 48 км/ч(13.3 м/с) требуется либо быть каким-нибудь служебным автомобилем(скорая, полиция или пожарные), либо нарушать скоростной режим(чем, видимо, не пренебрегает некоторое количество водителей).\n",
        "\n",
        "Тут же можем понять, что в 2020м году для быстрых переездов чаще использовался перевозчик №2. Вкупе с данными с графиков о времени переезда можем попробовать сделать вывод, что водители данной компании чаще нарушают: они быстрее ездят, но пассажиры немного опасаются использовать этого перевозчика."
      ]
    },
    {
      "cell_type": "markdown",
      "metadata": {
        "id": "TLv4o3IBMpZ3"
      },
      "source": [
        "![19fool](pictures/19.jpg)\n",
        "![20fool](pictures/20.jpg)"
      ]
    },
    {
      "cell_type": "markdown",
      "metadata": {
        "id": "sxpyDmYyMpZ3"
      },
      "source": [
        "Кажется, за весь период мы ничего конкретного не вынесем. Особенно из прошлого года. Однако в этом году можно заметить, что популярным осталось направления Manhatten(и собственно весь он сам) и 2 аэропорта в Queens, а также в 19м году аэропорт Newark. Однако можем заметить, что и так малое количество поездок из Staten Island стало ещё меньше(возможно потому что там много русских, а раз Президент сказал самоизолироваться, нужно самоизолироваться)."
      ]
    },
    {
      "cell_type": "markdown",
      "metadata": {
        "id": "vn3fAychMpZ3"
      },
      "source": [
        "![19weekday](pictures/19weekday.jpg)\n",
        "![19weekend](pictures/19weekend.jpg)"
      ]
    },
    {
      "cell_type": "markdown",
      "metadata": {
        "id": "SeC24nwzMpZ3"
      },
      "source": [
        "Здесь отображены поездки за рабочие дни и за выходные в мае 19ого года. \n",
        "\n",
        "На выходных видим значительное уменьшение поездок в район Staten Island. Это, возможно, обусловлено тем, что много жителей едут в другие районы на работу, а вся инфраструктура для отдыха на выходных присутствует на месте. Более того, вспоминая, что этот район является довольно тихим, можно сделать вывод, что жители не хотят суеты ещё и в выходные.\n",
        "\n",
        "Также можно заметить небольшое уменьшение трафика из аэропортов на выходных(вероятно потому Нью-Йорк популярный город даже больше для рабочих визитов, чем для отдыха).\n",
        "\n",
        "Однако в целом плотность в центральных районах не изменилась."
      ]
    },
    {
      "cell_type": "markdown",
      "metadata": {
        "id": "uxxrNlV1MpZ3"
      },
      "source": [
        "![20weelday](pictures/20weekday.jpg)\n",
        "![20weekend](pictures/20weekend.jpg)"
      ]
    },
    {
      "cell_type": "markdown",
      "metadata": {
        "id": "3FLai9pZMpZ4"
      },
      "source": [
        "В противоположность этому на выходных 20ого видно значительное снижение использования такси. Популярным остались Manhattan и аэропорты, но очевидно снижение переездов между дальними частями города. Также можем заметить, что из аэропорта Ньюарк почти полностью перестали ездить."
      ]
    },
    {
      "cell_type": "markdown",
      "metadata": {
        "id": "Cf8Y0kQTMpZ4"
      },
      "source": [
        "В целом можно понять, что Manhattan всегда имел большой трафик из-за множества туристов и большого количества бизнес-центров."
      ]
    },
    {
      "cell_type": "markdown",
      "metadata": {
        "id": "MViFIyXSqvlp"
      },
      "source": [
        "### Сформируем репрезентативную выборку меньшего размера, чтобы не ощущать проблем с недостатком ресурсов"
      ]
    },
    {
      "cell_type": "code",
      "metadata": {
        "id": "4VM7NNZjqv-3"
      },
      "source": [
        "trips19 = pd.read_csv('/content/drive/MyDrive/trips/trips19_05_cut.csv')"
      ],
      "execution_count": 3,
      "outputs": []
    },
    {
      "cell_type": "code",
      "metadata": {
        "id": "M-LiN53-qwKc"
      },
      "source": [
        "trips20 = pd.read_csv('/content/drive/MyDrive/trips/trips20_05_cut.csv')"
      ],
      "execution_count": 4,
      "outputs": []
    },
    {
      "cell_type": "markdown",
      "metadata": {
        "id": "__96lDlmMpZ4"
      },
      "source": [
        "### Немного изменим представление категориальных данных"
      ]
    },
    {
      "cell_type": "markdown",
      "metadata": {
        "id": "byDkoh3cMpZ4"
      },
      "source": [
        "У нас есть несколько колонок, которые являются категориальными данными. Для линейной регрессии это не очень хорошо, потому сделаем следующим образом: для каждой категории заведём отдельную колонку и выставим в ней True, если у текущей колонки именно эта категория. Этот приём называется OneHotEncoding.\n",
        "\n",
        "Таким образом будет легко поступить с payment_type, т.к. там всего 6 различных вариантов. Так сделаем для остальных фичей: VendorID, RatecodeID, store_and_fwd_flag. \n",
        "\n",
        "Для колонок PULocationID и DOLocationID так не пойдёт, потому что там значения от 1 до 263, что очень сильно нагрузит систему. Можно было бы распределить только по районам города: Manhattan, Staten Island, Brooklyn, Queens, Bronx и EWR(Newark Airport).\n",
        "\n",
        "Также можем удалить время начала и конца поездок, т.к. уже некоторую информацию из них мы вынесли, а модели формат datetime не воспринимают. Также сейчас удалим trip_duration. trip_duration_secs удалим чуть позже, когда получим ответы для train- и test-выборок."
      ]
    },
    {
      "cell_type": "code",
      "metadata": {
        "id": "_WdwayQcMpZ4"
      },
      "source": [
        "drop_columns = ['tpep_pickup_datetime', 'tpep_dropoff_datetime', 'trip_duration']\n",
        "trips19 = trips19.drop(columns=drop_columns)\n",
        "trips20 = trips20.drop(columns=drop_columns)"
      ],
      "execution_count": 5,
      "outputs": []
    },
    {
      "cell_type": "code",
      "metadata": {
        "id": "dVse1WdhMpZ4"
      },
      "source": [
        "columns = ['VendorID', 'RatecodeID', 'store_and_fwd_flag', 'payment_type']\n",
        "for column in columns:\n",
        "    for val in set(trips19[column].values):\n",
        "        trips19[column + str(val)] = trips19[column] == val\n",
        "    for val in set(trips20[column].values):\n",
        "        trips20[column + str(val)] = trips20[column] == val\n",
        "    trips19 = trips19.drop(columns=column)\n",
        "    trips20 = trips20.drop(columns=column)"
      ],
      "execution_count": 6,
      "outputs": []
    },
    {
      "cell_type": "code",
      "metadata": {
        "id": "sDU2HK7wMpZ4"
      },
      "source": [
        "boroughs = {\n",
        "    'EWR': [1],\n",
        "    'Manhattan': [4, 12, 13, 24,  41, 42, 43,\n",
        "  45, 48,  50, 68, 74, 75, 79, 87, 88, 90, 100, 103, 103, 103, 107, 113, 114,\n",
        "  116, 120, 125, 127, 128, 137, 140, 141, 142, 143, 144, 148, 151, 152, 153,\n",
        "  158, 161, 162, 163, 164, 166, 170, 186, 194, 202, 209, 211, 224, 229, 230, \n",
        "  231, 232, 233, 234, 236, 237, 238, 239, 243, 244, 246, 249, 261, 262, 263],\n",
        "    'Brooklyn': [11, 14, 17, 21, 22, 25, 26, 29, 33, 34, 35, \n",
        "  36, 37, 39, 40, 49, 52, 54, 55, 61, 62, 63, 65, 66, 67, 71, 72, 76, 77, 80,\n",
        "  85, 89, 91, 97, 106, 108, 111, 112, 123, 133, 149, 150, 154, 155, 165, 177, \n",
        "  178, 181, 188, 189, 190, 195, 210, 217, 222, 225, 227, 228, 255, 256, 257],\n",
        "    'Bronx': [3, 18, 20, 31, 32, 46, 47, 51, 58, 59, 60, 69, \n",
        "  78, 81, 94, 119, 126, 136, 147, 159, 167, 168, 169, 174, 182, 183, 184, 185, \n",
        "  199, 200, 208, 212, 213, 220, 235, 240, 241, 242, 247, 248, 250, 254, 259],\n",
        "    'Queens': [2, 7, 8, 9, \n",
        "  10, 15, 16, 19, 27, 28, 30, 38, 53, 56, 56, 64, 70, 73, 82, 83, 86, 92, 93,\n",
        "  95, 96, 98, 101, 102, 117, 121, 122, 124, 129, 130, 131, 132, 134, 135, 138,\n",
        "  139, 145, 146, 157, 160, 171, 173, 175, 179, 180, 191, 192, 193, 196, 197, \n",
        "  198, 201, 203, 205, 207, 215, 216, 218, 219, 223, 226, 252, 253, 258, 260],\n",
        " '    Staten Island': [5, 6, 23, 44,\n",
        "  84, 99, 109, 110, 115, 118, 156, 172, 176, 187, 204, 206, 214, 221, 245, 251]\n",
        "}"
      ],
      "execution_count": 7,
      "outputs": []
    },
    {
      "cell_type": "code",
      "metadata": {
        "id": "XMHKJEhkuph_"
      },
      "source": [
        "columns = [('PULocationID', 'PU'), ('DOLocationID', 'DO')]\n",
        "for column, abr in columns:\n",
        "    for brg in boroughs:\n",
        "        ids = boroughs[brg]\n",
        "        trips19[brg + abr] = [True if x in ids else False for x in trips19[column]]\n",
        "        trips20[brg + abr] = [True if x in ids else False for x in trips20[column]]\n",
        "    trips19 = trips19.drop(columns=column)\n",
        "    trips20 = trips20.drop(columns=column)"
      ],
      "execution_count": 8,
      "outputs": []
    },
    {
      "cell_type": "markdown",
      "metadata": {
        "id": "LJPUJrnoMpZ4"
      },
      "source": [
        "\n",
        "### Линейная регрессия"
      ]
    },
    {
      "cell_type": "markdown",
      "metadata": {
        "id": "hydg45H7MpZ4"
      },
      "source": [
        "Чётких правил по выбору размеров train- и test-выборок нет. Рекомендуется брать в каком-то из соотношений 90/10, 80/20, 70/30.\n",
        "\n",
        "Гораздо большим значением обладает размер самой выборки. Проверим их."
      ]
    },
    {
      "cell_type": "code",
      "metadata": {
        "id": "zkOXfQyPMpZ4",
        "colab": {
          "base_uri": "https://localhost:8080/"
        },
        "outputId": "5c691756-b357-400c-da9a-8c1ab49925e8"
      },
      "source": [
        "print(trips19.shape, trips20.shape)"
      ],
      "execution_count": 9,
      "outputs": [
        {
          "output_type": "stream",
          "text": [
            "(96969, 43) (78875, 43)\n"
          ],
          "name": "stdout"
        }
      ]
    },
    {
      "cell_type": "markdown",
      "metadata": {
        "id": "kM-4F0VVMpZ4"
      },
      "source": [
        "Имеем размеры в $9.7 \\cdot 10^4$ и $7.9 \\cdot 10^4$.\n",
        "Это выборки со средним размером. Потому искусственно повышать размер train-выборки из-за недостаточности данных необходимости нет.\n",
        "\n",
        "По принципу Парето возьмём 80/20."
      ]
    },
    {
      "cell_type": "markdown",
      "metadata": {
        "id": "afg-7Yy9MpZ4"
      },
      "source": [
        "Чтобы не нагружать оперативную память пообучаем по очереди, но модели оставим."
      ]
    },
    {
      "cell_type": "code",
      "metadata": {
        "id": "ALnFhoBEMpZ4"
      },
      "source": [
        "def get_tr_ts(trips) -> tuple:\n",
        "    train, test = train_test_split(trips, test_size=0.2)\n",
        "\n",
        "    tr_ans = train['trip_duration_secs']\n",
        "    tr_ans = np.array(tr_ans.values.tolist()).astype(float)\n",
        "\n",
        "    train = train.drop(columns=['trip_duration_secs'])\n",
        "    train = np.array(train.values.tolist()).astype(float)\n",
        "\n",
        "    ts_ans = test['trip_duration_secs']\n",
        "    ts_ans = np.array(ts_ans.values.tolist()).astype(float)\n",
        "\n",
        "    test = test.drop(columns=['trip_duration_secs'])\n",
        "    test = np.array(test.values.tolist()).astype(float)\n",
        "    \n",
        "    return train, test, tr_ans, ts_ans"
      ],
      "execution_count": 9,
      "outputs": []
    },
    {
      "cell_type": "code",
      "metadata": {
        "id": "LJID2MayvmwH"
      },
      "source": [
        "def error(ans, predicted):\n",
        "  return np.sqrt(mean_squared_error(ans, predicted))"
      ],
      "execution_count": 10,
      "outputs": []
    },
    {
      "cell_type": "code",
      "metadata": {
        "id": "DEN5hUk9MpZ4"
      },
      "source": [
        "Xtr19, Xts19, Ytr19, Yts19 = get_tr_ts(trips19)"
      ],
      "execution_count": 22,
      "outputs": []
    },
    {
      "cell_type": "markdown",
      "metadata": {
        "id": "pCvJ4HPIMpZ4"
      },
      "source": [
        "Для начала попробуем обучить линейную регрессию без параметров."
      ]
    },
    {
      "cell_type": "code",
      "metadata": {
        "id": "SOekl69XMpZ4"
      },
      "source": [
        "reg = LinearRegression().fit(Xtr19, Ytr19)"
      ],
      "execution_count": 41,
      "outputs": []
    },
    {
      "cell_type": "markdown",
      "metadata": {
        "id": "L9_yoXj9MpZ4"
      },
      "source": [
        "Посмотрим, как регрессия умеет предсказывать данные для train-выборки."
      ]
    },
    {
      "cell_type": "code",
      "metadata": {
        "id": "ua1uy0DcMpZ4"
      },
      "source": [
        "predicted = reg.predict(Xtr19)"
      ],
      "execution_count": 42,
      "outputs": []
    },
    {
      "cell_type": "markdown",
      "metadata": {
        "id": "rsv0w76vMpZ5"
      },
      "source": [
        "Посмотрим на корень из MSE:\n",
        "$$\n",
        "\\sqrt{MSE} = \\sqrt{\\dfrac{1}{N}\\sum\\limits_{i = 1}^{n} (y_i - \\hat{y}_i)^2}\n",
        "$$"
      ]
    },
    {
      "cell_type": "code",
      "metadata": {
        "id": "huEkfKR7MpZ5",
        "colab": {
          "base_uri": "https://localhost:8080/"
        },
        "outputId": "ad9ed27b-043e-4114-8168-3cedbb306476"
      },
      "source": [
        "error(Ytr19, predicted)"
      ],
      "execution_count": 43,
      "outputs": [
        {
          "output_type": "execute_result",
          "data": {
            "text/plain": [
              "259.0324499032561"
            ]
          },
          "metadata": {
            "tags": []
          },
          "execution_count": 43
        }
      ]
    },
    {
      "cell_type": "markdown",
      "metadata": {
        "id": "Ugp6EMAhMpZ5"
      },
      "source": [
        "Видим большое значение. Будем использовать его как отправную точку для оценки качества последующих моделей, т.к. тут мы знаем, что это не самый приемлемый результат. И очевидно можем сказать, что модель не переучилась."
      ]
    },
    {
      "cell_type": "markdown",
      "metadata": {
        "id": "2hjpGcRhMpZ5"
      },
      "source": [
        "Посмотрим, как наша модель предскажет значения для тестовой выборки:"
      ]
    },
    {
      "cell_type": "code",
      "metadata": {
        "id": "U9hJfqrHMpZ5"
      },
      "source": [
        "predicted = reg.predict(Xts19)"
      ],
      "execution_count": 44,
      "outputs": []
    },
    {
      "cell_type": "code",
      "metadata": {
        "id": "TtJWiT_PMpZ6",
        "colab": {
          "base_uri": "https://localhost:8080/"
        },
        "outputId": "01c9c24e-a401-4895-a4de-6155af92003a"
      },
      "source": [
        "error(Yts19, predicted)"
      ],
      "execution_count": 45,
      "outputs": [
        {
          "output_type": "execute_result",
          "data": {
            "text/plain": [
              "219.21086764462103"
            ]
          },
          "metadata": {
            "tags": []
          },
          "execution_count": 45
        }
      ]
    },
    {
      "cell_type": "markdown",
      "metadata": {
        "id": "5YX4Mwm_MpZ6"
      },
      "source": [
        "Проверим для 20ого года."
      ]
    },
    {
      "cell_type": "code",
      "metadata": {
        "id": "z6HZcXSrMpZ6"
      },
      "source": [
        "Xtr20, Xts20, Ytr20, Yts20 = get_tr_ts(trips20)"
      ],
      "execution_count": 12,
      "outputs": []
    },
    {
      "cell_type": "code",
      "metadata": {
        "id": "HNEJcee-MpZ6"
      },
      "source": [
        "reg.fit(Xtr20, Ytr20)\n",
        "pass"
      ],
      "execution_count": 46,
      "outputs": []
    },
    {
      "cell_type": "code",
      "metadata": {
        "id": "3vXay4tlMpZ6"
      },
      "source": [
        "predicted = reg.predict(Xtr20)"
      ],
      "execution_count": 47,
      "outputs": []
    },
    {
      "cell_type": "code",
      "metadata": {
        "colab": {
          "base_uri": "https://localhost:8080/"
        },
        "id": "wjNLyXiklnxO",
        "outputId": "1d1f85af-8964-47c1-f6ae-6845cc5560fc"
      },
      "source": [
        "error(Ytr20, predicted)"
      ],
      "execution_count": 48,
      "outputs": [
        {
          "output_type": "execute_result",
          "data": {
            "text/plain": [
              "195.12254814663768"
            ]
          },
          "metadata": {
            "tags": []
          },
          "execution_count": 48
        }
      ]
    },
    {
      "cell_type": "markdown",
      "metadata": {
        "id": "fBMmlV58mWD-"
      },
      "source": [
        "В 20м году получили результаты немного лучше(хотя и совсем чуть-чуть). Причиной может быть бóльшая однородность данных(отсутствие большого количества явных выбросов, в то время как в 19м году мы наблюдали, например, много коротких поездок)."
      ]
    },
    {
      "cell_type": "markdown",
      "metadata": {
        "id": "FMA-bHqj3_F-"
      },
      "source": [
        "И глазком попробуем на тестовой выборке."
      ]
    },
    {
      "cell_type": "code",
      "metadata": {
        "id": "Lz_sdY8f4DU0"
      },
      "source": [
        "predicted = reg.predict(Xts20)"
      ],
      "execution_count": 49,
      "outputs": []
    },
    {
      "cell_type": "code",
      "metadata": {
        "colab": {
          "base_uri": "https://localhost:8080/"
        },
        "id": "sRePHLl-4DnK",
        "outputId": "6780aaa9-7fd2-4057-c95d-4b693c5db192"
      },
      "source": [
        "error(Yts20, predicted)"
      ],
      "execution_count": 50,
      "outputs": [
        {
          "output_type": "execute_result",
          "data": {
            "text/plain": [
              "186.83151777722307"
            ]
          },
          "metadata": {
            "tags": []
          },
          "execution_count": 50
        }
      ]
    },
    {
      "cell_type": "markdown",
      "metadata": {
        "id": "lZOb61U641QL"
      },
      "source": [
        "Интересно, что в обоих случаях качество на тестовой выборке немного лучше, чем на train-выборке. Это может объясняться спецификой данных, непригодностью их для данной задачи, сложной зависимостью."
      ]
    },
    {
      "cell_type": "markdown",
      "metadata": {
        "id": "FfZJf5FonXbI"
      },
      "source": [
        "### Обработаем данные перед обучением"
      ]
    },
    {
      "cell_type": "markdown",
      "metadata": {
        "id": "WrYme44po5eV"
      },
      "source": [
        "Попробуем StandardScaler, MinMaxScaler и MaxAbsScaler."
      ]
    },
    {
      "cell_type": "code",
      "metadata": {
        "id": "vrNzXs8j5url"
      },
      "source": [
        "def scaler_predict(X, Y, X_for_q, scaler, model, is_train=True):\n",
        "    if is_train:\n",
        "        X = scaler.fit_transform(X)\n",
        "        model.fit(X, Y)\n",
        "        return model.predict(X), scaler, model\n",
        "    X_for_q = scaler.transform(X_for_q) \n",
        "    return model.predict(X_for_q), scaler, model"
      ],
      "execution_count": 13,
      "outputs": []
    },
    {
      "cell_type": "code",
      "metadata": {
        "id": "kB-xFgxNln_U",
        "colab": {
          "base_uri": "https://localhost:8080/"
        },
        "outputId": "7836db1b-4ada-4f8c-afc1-8aa91c4d8e83"
      },
      "source": [
        "for scaler in [StandardScaler(), MinMaxScaler(), MaxAbsScaler()]:\n",
        "    predicted, scaler, model = scaler_predict(Xtr19, Ytr19, [], scaler, LinearRegression())\n",
        "    print(error(Ytr19, predicted))\n",
        "    predicted, scaler, model = scaler_predict([], [], Xts19, scaler, model, is_train=False)\n",
        "    print(error(Yts19, predicted))"
      ],
      "execution_count": 23,
      "outputs": [
        {
          "output_type": "stream",
          "text": [
            "259.0324214464194\n",
            "219.2108609012267\n",
            "259.03241711103846\n",
            "219.21025170751102\n",
            "259.0326937304792\n",
            "219.21057914454437\n"
          ],
          "name": "stdout"
        }
      ]
    },
    {
      "cell_type": "code",
      "metadata": {
        "id": "_oNxYY4Z2lso",
        "colab": {
          "base_uri": "https://localhost:8080/"
        },
        "outputId": "a2c44d98-f711-4b5c-ff6d-c7f4befa8f08"
      },
      "source": [
        "for scaler in [StandardScaler(), MinMaxScaler(), MaxAbsScaler()]:\n",
        "    predicted, scaler, model = scaler_predict(Xtr20, Ytr20, [], scaler, LinearRegression())\n",
        "    print(error(Ytr20, predicted))\n",
        "    predicted, scaler, model = scaler_predict([], [], Xts20, scaler, model, is_train=False)\n",
        "    print(error(Yts20, predicted))"
      ],
      "execution_count": 15,
      "outputs": [
        {
          "output_type": "stream",
          "text": [
            "195.11896092190858\n",
            "186.8437197945496\n",
            "195.12330388195315\n",
            "186.8319721677442\n",
            "195.12343382712012\n",
            "186.83204352603465\n"
          ],
          "name": "stdout"
        }
      ]
    },
    {
      "cell_type": "markdown",
      "metadata": {
        "id": "GHnm4-lBdKYS"
      },
      "source": [
        "### Полиномиальная регрессия"
      ]
    },
    {
      "cell_type": "code",
      "metadata": {
        "id": "axHQNfrj2l8p",
        "colab": {
          "base_uri": "https://localhost:8080/"
        },
        "outputId": "993b45b1-65d9-4a92-ed75-98c4c5f80035"
      },
      "source": [
        "preg = make_pipeline(PolynomialFeatures(2), LinearRegression())\n",
        "preg.fit(Xtr19, Ytr19)\n",
        "print('Degree: {}'.format(2))\n",
        "preg_tr19 = preg.predict(Xtr19)\n",
        "print(error(Ytr19, preg_tr19))\n",
        "preg_ts19 = preg.predict(Xts19)\n",
        "print(error(Yts19, preg_ts19))"
      ],
      "execution_count": 36,
      "outputs": [
        {
          "output_type": "stream",
          "text": [
            "Degree: 2\n",
            "133.2552828147691\n",
            "103.66757602637381\n"
          ],
          "name": "stdout"
        }
      ]
    },
    {
      "cell_type": "code",
      "metadata": {
        "colab": {
          "base_uri": "https://localhost:8080/"
        },
        "id": "6CFIJ2ZXt_Vr",
        "outputId": "e0cb2d03-493d-4f56-b79d-1d2cbb29e7c7"
      },
      "source": [
        "preg20 = make_pipeline(PolynomialFeatures(2), LinearRegression())\n",
        "preg20.fit(Xtr20, Ytr20)\n",
        "print('Degree: {}'.format(2))\n",
        "preg_tr20 = preg20.predict(Xtr20)\n",
        "print(error(Ytr20, preg_tr20))\n",
        "preg_ts20 = preg20.predict(Xts20)\n",
        "print(error(Yts20, preg_ts20))"
      ],
      "execution_count": 37,
      "outputs": [
        {
          "output_type": "stream",
          "text": [
            "Degree: 2\n",
            "64.9001667541051\n",
            "107.97137260647627\n"
          ],
          "name": "stdout"
        }
      ]
    },
    {
      "cell_type": "markdown",
      "metadata": {
        "id": "PdDowiql5SCn"
      },
      "source": [
        "Тут про недостатки полиномиальной регрессии."
      ]
    },
    {
      "cell_type": "markdown",
      "metadata": {
        "id": "9yXEUHbU6pp8"
      },
      "source": [
        "### Случайный лес"
      ]
    },
    {
      "cell_type": "markdown",
      "metadata": {
        "id": "eXOaXmKJaelb"
      },
      "source": [
        "Переберём сначала размер леса, а потом для оптимального найдём глубину. Это не исчерпывающий поиск, но является довольно хорошим решением. \n",
        "Делалась проверка и у обоих датасетов оптимальность была достигнута на одинаковых параметрах. Потому оставим только часть кода с меньшим датасетом, чтобы не тратить время при пересчёте."
      ]
    },
    {
      "cell_type": "code",
      "metadata": {
        "colab": {
          "base_uri": "https://localhost:8080/"
        },
        "id": "XIW7WX_0adq0",
        "outputId": "89fccd3f-46e6-4a2f-aa44-ce21fd6b3c4f"
      },
      "source": [
        "best = [100000000, 0, -1]\n",
        "for depth in range(3, 16, 1):\n",
        "    for cnt in range(100, 1001, 100):\n",
        "        forest = RandomForestClassifier(n_estimators=cnt, max_depth=depth, min_samples_split=100).fit(Xtr19, Ytr19)\n",
        "        err = error(forest.predict(Xts19), Yts19)\n",
        "        if err < best[0]:\n",
        "            best[0] = err\n",
        "            best[1] = cnt\n",
        "            best[2] = depth\n",
        "print(best)"
      ],
      "execution_count": 48,
      "outputs": [
        {
          "output_type": "stream",
          "text": [
            "[323.462341374234, 500, 8]\n"
          ],
          "name": "stdout"
        }
      ]
    },
    {
      "cell_type": "markdown",
      "metadata": {
        "id": "bPRNu-Nnh-5g"
      },
      "source": [
        "Не будем перезапускать, чтобы не тратить время. Наилучшие результаты показала модель с количеством деревьев 500 и максимальной глубиной 8."
      ]
    },
    {
      "cell_type": "code",
      "metadata": {
        "id": "FR-rHh9t6nkR"
      },
      "source": [
        "forest = RandomForestClassifier(n_estimators=500, max_depth=8, min_samples_split=100).fit(Xtr19, Ytr19)"
      ],
      "execution_count": 25,
      "outputs": []
    },
    {
      "cell_type": "code",
      "metadata": {
        "id": "krBfGMX5vfFt"
      },
      "source": [
        "predicted_tr19 = forest.predict(Xtr19)"
      ],
      "execution_count": 27,
      "outputs": []
    },
    {
      "cell_type": "code",
      "metadata": {
        "id": "-iaAIpCANYHK"
      },
      "source": [
        "predicted_ts19 = forest.predict(Xts19)"
      ],
      "execution_count": 28,
      "outputs": []
    },
    {
      "cell_type": "code",
      "metadata": {
        "colab": {
          "base_uri": "https://localhost:8080/"
        },
        "id": "QIQR0jT7vfPL",
        "outputId": "19e678de-8523-4f5a-ca51-02ee3eef9bd7"
      },
      "source": [
        "print(error(predicted_tr19, Ytr19))\n",
        "print(error(predicted_ts19, Yts19))"
      ],
      "execution_count": 30,
      "outputs": [
        {
          "output_type": "stream",
          "text": [
            "288.33736694526004\n",
            "351.10467782728807\n"
          ],
          "name": "stdout"
        }
      ]
    },
    {
      "cell_type": "code",
      "metadata": {
        "id": "RVHhygrWvfYv"
      },
      "source": [
        "forest20 = RandomForestClassifier(n_estimators=500, max_depth=8, min_samples_split=100).fit(Xtr20, Ytr20)"
      ],
      "execution_count": 31,
      "outputs": []
    },
    {
      "cell_type": "code",
      "metadata": {
        "id": "OGo30oCovfjv"
      },
      "source": [
        "predicted_tr20 = forest.predict(Xtr20)"
      ],
      "execution_count": 32,
      "outputs": []
    },
    {
      "cell_type": "code",
      "metadata": {
        "id": "dCbbTsBEvfqL"
      },
      "source": [
        "predicted_ts20 = forest.predict(Xts20)"
      ],
      "execution_count": 33,
      "outputs": []
    },
    {
      "cell_type": "code",
      "metadata": {
        "colab": {
          "base_uri": "https://localhost:8080/"
        },
        "id": "Xsa-xSThvfvz",
        "outputId": "1d6e1e25-355e-4bc9-fa7c-fb9427116f53"
      },
      "source": [
        "print(error(predicted_tr20, Ytr20))\n",
        "print(error(predicted_ts20, Yts20))"
      ],
      "execution_count": 34,
      "outputs": [
        {
          "output_type": "stream",
          "text": [
            "281.88395067505616\n",
            "414.04399216568095\n"
          ],
          "name": "stdout"
        }
      ]
    },
    {
      "cell_type": "markdown",
      "metadata": {
        "id": "15wWg3kgWYon"
      },
      "source": [
        "Построим графики отклонения от ответа на тестовой выборке у случайного леса:"
      ]
    },
    {
      "cell_type": "code",
      "metadata": {
        "colab": {
          "base_uri": "https://localhost:8080/",
          "height": 773
        },
        "id": "toxYUbBGvf5a",
        "outputId": "58e2d6d5-5d71-40c0-a12b-72ed6fc8d484"
      },
      "source": [
        "sns.displot(predicted_ts19 - Yts19)\n",
        "plt.xlim(-1000, 1000)\n",
        "plt.xlabel('Отклонение')\n",
        "plt.ylabel('Кол-во')\n",
        "sns.displot(predicted_ts20 - Yts20)\n",
        "plt.xlim(-1000, 1000)\n",
        "plt.xlabel('Отклонение')\n",
        "plt.ylabel('Кол-во')"
      ],
      "execution_count": 39,
      "outputs": [
        {
          "output_type": "execute_result",
          "data": {
            "text/plain": [
              "Text(3.1750000000000043, 0.5, 'Кол-во')"
            ]
          },
          "metadata": {
            "tags": []
          },
          "execution_count": 39
        },
        {
          "output_type": "display_data",
          "data": {
            "image/png": "[encoded data removed]",
            "text/plain": [
              "<Figure size 360x360 with 1 Axes>"
            ]
          },
          "metadata": {
            "tags": [],
            "needs_background": "light"
          }
        },
        {
          "output_type": "display_data",
          "data": {
            "image/png": "[encoded data removed]",
            "text/plain": [
              "<Figure size 360x360 with 1 Axes>"
            ]
          },
          "metadata": {
            "tags": [],
            "needs_background": "light"
          }
        }
      ]
    },
    {
      "cell_type": "code",
      "metadata": {
        "colab": {
          "base_uri": "https://localhost:8080/",
          "height": 773
        },
        "id": "ssnZC-S0vgA1",
        "outputId": "2dec474d-328c-4e72-a69d-10fe1b973a60"
      },
      "source": [
        "sns.displot(preg_ts19 - Yts19)\n",
        "plt.xlim(-1000, 1000)\n",
        "plt.xlabel('Отклонение')\n",
        "plt.ylabel('Кол-во')\n",
        "sns.displot(preg_ts20 - Yts20)\n",
        "plt.xlim(-1000, 1000)\n",
        "plt.xlabel('Отклонение')\n",
        "plt.ylabel('Кол-во')"
      ],
      "execution_count": 40,
      "outputs": [
        {
          "output_type": "execute_result",
          "data": {
            "text/plain": [
              "Text(3.1750000000000043, 0.5, 'Кол-во')"
            ]
          },
          "metadata": {
            "tags": []
          },
          "execution_count": 40
        },
        {
          "output_type": "display_data",
          "data": {
            "image/png": "[encoded data removed]",
            "text/plain": [
              "<Figure size 360x360 with 1 Axes>"
            ]
          },
          "metadata": {
            "tags": [],
            "needs_background": "light"
          }
        },
        {
          "output_type": "display_data",
          "data": {
            "image/png": "[encoded data removed]",
            "text/plain": [
              "<Figure size 360x360 with 1 Axes>"
            ]
          },
          "metadata": {
            "tags": [],
            "needs_background": "light"
          }
        }
      ]
    },
    {
      "cell_type": "code",
      "metadata": {
        "colab": {
          "base_uri": "https://localhost:8080/",
          "height": 774
        },
        "id": "cL--yEa2vgJj",
        "outputId": "ee9740c7-88b5-47b9-9076-b615f99c4137"
      },
      "source": [
        "plt.figure(figsize=(13, 13))\n",
        "plt.hist(Yts19, bins=np.linspace(-500, 4000, 300), label='Ответ')\n",
        "plt.hist(predicted_ts19, bins=np.linspace(-500, 4000, 300), label='Предсказания')\n",
        "plt.xlim(-500, 4000)\n",
        "plt.xlabel('Длительность(сек)')\n",
        "plt.ylabel('Кол-во')\n",
        "plt.legend()\n",
        "plt.show()\n",
        "pass"
      ],
      "execution_count": 56,
      "outputs": [
        {
          "output_type": "display_data",
          "data": {
            "image/png": "[encoded data removed]",
            "text/plain": [
              "<Figure size 936x936 with 1 Axes>"
            ]
          },
          "metadata": {
            "tags": [],
            "needs_background": "light"
          }
        }
      ]
    },
    {
      "cell_type": "code",
      "metadata": {
        "colab": {
          "base_uri": "https://localhost:8080/",
          "height": 774
        },
        "id": "RWp4N0CrvgQq",
        "outputId": "e810a960-0ce0-4720-ed23-4de04452e2f1"
      },
      "source": [
        "plt.figure(figsize=(13, 13))\n",
        "plt.hist(Yts19, bins=np.linspace(-500, 4000, 300), label='Ответ')\n",
        "plt.hist(preg_ts19, bins=np.linspace(-500, 4000, 300), label='Предсказания')\n",
        "plt.xlim(-500, 4000)\n",
        "plt.xlabel('Длительность(сек)')\n",
        "plt.ylabel('Кол-во')\n",
        "plt.legend()\n",
        "plt.show()\n",
        "pass"
      ],
      "execution_count": 57,
      "outputs": [
        {
          "output_type": "display_data",
          "data": {
            "image/png": "[encoded data removed]",
            "text/plain": [
              "<Figure size 936x936 with 1 Axes>"
            ]
          },
          "metadata": {
            "tags": [],
            "needs_background": "light"
          }
        }
      ]
    },
    {
      "cell_type": "code",
      "metadata": {
        "id": "us742xtzvgXj"
      },
      "source": [
        ""
      ],
      "execution_count": null,
      "outputs": []
    },
    {
      "cell_type": "code",
      "metadata": {
        "id": "LfHQJd6UvgkC"
      },
      "source": [
        ""
      ],
      "execution_count": null,
      "outputs": []
    },
    {
      "cell_type": "code",
      "metadata": {
        "id": "yq8b983Y2mAy"
      },
      "source": [
        ""
      ],
      "execution_count": null,
      "outputs": []
    },
    {
      "cell_type": "code",
      "metadata": {
        "id": "JSyXopSw2mFs"
      },
      "source": [
        ""
      ],
      "execution_count": null,
      "outputs": []
    },
    {
      "cell_type": "code",
      "metadata": {
        "id": "nwD13Vpm2mKj"
      },
      "source": [
        ""
      ],
      "execution_count": null,
      "outputs": []
    },
    {
      "cell_type": "code",
      "metadata": {
        "id": "D9MMBGp62mO8"
      },
      "source": [
        ""
      ],
      "execution_count": null,
      "outputs": []
    }
  ]
}