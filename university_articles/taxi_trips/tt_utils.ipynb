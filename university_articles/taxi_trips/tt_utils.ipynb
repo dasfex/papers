{
 "cells": [
  {
   "cell_type": "code",
   "execution_count": 1,
   "metadata": {},
   "outputs": [],
   "source": [
    "import pandas as pd\n",
    "import numpy as np\n",
    "from datetime import datetime"
   ]
  },
  {
   "cell_type": "code",
   "execution_count": 2,
   "metadata": {},
   "outputs": [
    {
     "name": "stderr",
     "output_type": "stream",
     "text": [
      "/home/khodor/.local/lib/python3.6/site-packages/IPython/core/interactiveshell.py:3063: DtypeWarning: Columns (6) have mixed types. Specify dtype option on import or set low_memory=False.\n",
      "  interactivity=interactivity, compiler=compiler, result=result)\n"
     ]
    }
   ],
   "source": [
    "trips19 = pd.read_csv('tripdata_2019-05.csv')\n",
    "trips20 = pd.read_csv('tripdata_2020-05.csv')"
   ]
  },
  {
   "cell_type": "code",
   "execution_count": 3,
   "metadata": {},
   "outputs": [],
   "source": [
    "# для того, чтобы не засорять оперативу непонятными данными, удалим их на время\n",
    "del_columns = ['VendorID', 'RatecodeID', 'store_and_fwd_flag', 'extra', 'mta_tax', 'tip_amount', 'improvement_surcharge', 'congestion_surcharge']\n",
    "trips19 = trips19.drop(columns=del_columns)\n",
    "trips20 = trips20.drop(columns=del_columns)"
   ]
  },
  {
   "cell_type": "code",
   "execution_count": 4,
   "metadata": {},
   "outputs": [
    {
     "name": "stdout",
     "output_type": "stream",
     "text": [
      "Max passengers count = 1.0\n"
     ]
    }
   ],
   "source": [
    "max_passengers_count = trips20['passenger_count'].value_counts().idxmax()\n",
    "print(\"Max passengers count =\", max_passengers_count)\n",
    "trips20.passenger_count = trips20.passenger_count.fillna(max_passengers_count)"
   ]
  },
  {
   "cell_type": "code",
   "execution_count": 5,
   "metadata": {},
   "outputs": [],
   "source": [
    "trips19['tpep_pickup_datetime'] = pd.to_datetime(trips19.tpep_pickup_datetime)\n",
    "trips19['tpep_dropoff_datetime'] = pd.to_datetime(trips19.tpep_dropoff_datetime)"
   ]
  },
  {
   "cell_type": "code",
   "execution_count": 6,
   "metadata": {},
   "outputs": [],
   "source": [
    "trips20['tpep_pickup_datetime'] = pd.to_datetime(trips20.tpep_pickup_datetime)\n",
    "trips20['tpep_dropoff_datetime'] = pd.to_datetime(trips20.tpep_dropoff_datetime)"
   ]
  },
  {
   "cell_type": "code",
   "execution_count": 7,
   "metadata": {},
   "outputs": [],
   "source": [
    "trips19 = trips19[trips19.tpep_pickup_datetime <= trips19.tpep_dropoff_datetime]\n",
    "trips19 = trips19[trips19.PULocationID <= 263]\n",
    "trips19 = trips19[trips19.DOLocationID <= 263]"
   ]
  },
  {
   "cell_type": "code",
   "execution_count": 8,
   "metadata": {},
   "outputs": [],
   "source": [
    "trips20 = trips20[trips20.tpep_pickup_datetime <= trips20.tpep_dropoff_datetime]\n",
    "trips20 = trips20[trips20.PULocationID <= 263]\n",
    "trips20 = trips20[trips20.DOLocationID <= 263]"
   ]
  },
  {
   "cell_type": "code",
   "execution_count": 9,
   "metadata": {},
   "outputs": [],
   "source": [
    "MILES_TO_KM = 1609.34"
   ]
  },
  {
   "cell_type": "code",
   "execution_count": 10,
   "metadata": {},
   "outputs": [],
   "source": [
    "trips19['trip_pickup_day'] = trips19.tpep_pickup_datetime.dt.day\n",
    "trips19['week_day'] = trips19.tpep_pickup_datetime.dt.dayofweek\n",
    "trips19['trip_pickup_hour'] = trips19.tpep_pickup_datetime.dt.hour\n",
    "trips19['trip_dropoff_hour'] = trips19.tpep_dropoff_datetime.dt.hour\n",
    "trips19['trip_duration'] = trips19.tpep_dropoff_datetime - trips19.tpep_pickup_datetime\n",
    "trips19['trip_duration_secs'] = trips19.trip_duration.dt.seconds\n",
    "trips19['trip_distance'] = trips19['trip_distance'] * MILES_TO_KM\n",
    "trips19['average_velocity'] = trips19['trip_distance'] / trips19['trip_duration_secs']"
   ]
  },
  {
   "cell_type": "code",
   "execution_count": 11,
   "metadata": {},
   "outputs": [],
   "source": [
    "trips20['trip_pickup_day'] = trips20.tpep_pickup_datetime.dt.day\n",
    "trips20['week_day'] = trips20.tpep_pickup_datetime.dt.dayofweek\n",
    "trips20['trip_pickup_hour'] = trips20.tpep_pickup_datetime.dt.hour\n",
    "trips20['trip_dropoff_hour'] = trips20.tpep_dropoff_datetime.dt.hour\n",
    "trips20['trip_duration'] = trips20.tpep_dropoff_datetime - trips20.tpep_pickup_datetime\n",
    "trips20['trip_duration_secs'] = trips20.trip_duration.dt.seconds\n",
    "trips20['trip_distance'] = trips20['trip_distance'] * MILES_TO_KM\n",
    "trips20['average_velocity'] = trips20['trip_distance'] / trips20['trip_duration_secs']"
   ]
  },
  {
   "cell_type": "code",
   "execution_count": 12,
   "metadata": {},
   "outputs": [],
   "source": [
    "trips19 = trips19[trips19.average_velocity <= 50]\n",
    "trips19 = trips19[trips19.average_velocity > 1]\n",
    "trips19 = trips19.drop(trips19[(trips19.trip_distance == 0) & (trips19.total_amount > 0) & (trips19.trip_duration_secs > 0)].index)\n",
    "trips19 = trips19[trips19.total_amount >= 0]"
   ]
  },
  {
   "cell_type": "code",
   "execution_count": 13,
   "metadata": {},
   "outputs": [],
   "source": [
    "trips20 = trips20[trips20.average_velocity <= 50]\n",
    "trips20 = trips20[trips20.average_velocity > 1]\n",
    "trips20 = trips20.drop(trips20[(trips20.trip_distance == 0) & (trips20.total_amount > 0) & (trips20.trip_duration_secs > 0)].index)\n",
    "trips20 = trips20[trips20.total_amount >= 0]"
   ]
  },
  {
   "cell_type": "code",
   "execution_count": 14,
   "metadata": {},
   "outputs": [],
   "source": [
    "trips19['is_holiday'] = [x.date().day == 27 for x in trips19['tpep_pickup_datetime']]\n",
    "trips20['is_holiday'] = [x.date().day == 25 for x in trips20['tpep_pickup_datetime']]"
   ]
  },
  {
   "cell_type": "code",
   "execution_count": 17,
   "metadata": {},
   "outputs": [],
   "source": [
    "#c19 = trips19.copy(True)\n",
    "#c20 = trips20.copy(True)"
   ]
  },
  {
   "cell_type": "code",
   "execution_count": 210,
   "metadata": {},
   "outputs": [],
   "source": [
    "trips19 = c19.copy(True)\n",
    "trips20 = c20.copy(True)"
   ]
  },
  {
   "cell_type": "code",
   "execution_count": 211,
   "metadata": {},
   "outputs": [],
   "source": [
    "#trips19 = trips19[trips19.trip_pickup_hour == val]\n",
    "#trips20 = trips20[trips20.trip_pickup_hour == val]"
   ]
  },
  {
   "cell_type": "markdown",
   "metadata": {},
   "source": [
    "### Отметим все выезды на карте."
   ]
  },
  {
   "cell_type": "markdown",
   "metadata": {},
   "source": [
    "Импортируем данные о точках в каждой зоне такси.\n",
    "Заведём \"укороченную\" версию этой таблицы для мерджа."
   ]
  },
  {
   "cell_type": "code",
   "execution_count": 31,
   "metadata": {},
   "outputs": [],
   "source": [
    "taxi_zones = pd.read_csv('taxi_zones.csv')\n",
    "taxi_zones.columns = taxi_zones.columns.str.strip()\n",
    "taxi_zones = taxi_zones.drop(columns=['Shape_Leng', 'Shape_Area', 'zone', 'borough']).rename(columns={'X': 'lon', 'Y': 'lat'})"
   ]
  },
  {
   "cell_type": "code",
   "execution_count": 32,
   "metadata": {},
   "outputs": [
    {
     "data": {
      "text/html": [
       "<div>\n",
       "<style scoped>\n",
       "    .dataframe tbody tr th:only-of-type {\n",
       "        vertical-align: middle;\n",
       "    }\n",
       "\n",
       "    .dataframe tbody tr th {\n",
       "        vertical-align: top;\n",
       "    }\n",
       "\n",
       "    .dataframe thead th {\n",
       "        text-align: right;\n",
       "    }\n",
       "</style>\n",
       "<table border=\"1\" class=\"dataframe\">\n",
       "  <thead>\n",
       "    <tr style=\"text-align: right;\">\n",
       "      <th></th>\n",
       "      <th>lon</th>\n",
       "      <th>lat</th>\n",
       "      <th>PULocationID</th>\n",
       "      <th>DOLocationID</th>\n",
       "    </tr>\n",
       "  </thead>\n",
       "  <tbody>\n",
       "    <tr>\n",
       "      <th>0</th>\n",
       "      <td>-74.176786</td>\n",
       "      <td>40.689516</td>\n",
       "      <td>1</td>\n",
       "      <td>1</td>\n",
       "    </tr>\n",
       "    <tr>\n",
       "      <th>1</th>\n",
       "      <td>-73.826126</td>\n",
       "      <td>40.625724</td>\n",
       "      <td>2</td>\n",
       "      <td>2</td>\n",
       "    </tr>\n",
       "    <tr>\n",
       "      <th>2</th>\n",
       "      <td>-73.849479</td>\n",
       "      <td>40.865888</td>\n",
       "      <td>3</td>\n",
       "      <td>3</td>\n",
       "    </tr>\n",
       "    <tr>\n",
       "      <th>3</th>\n",
       "      <td>-73.977023</td>\n",
       "      <td>40.724152</td>\n",
       "      <td>4</td>\n",
       "      <td>4</td>\n",
       "    </tr>\n",
       "    <tr>\n",
       "      <th>4</th>\n",
       "      <td>-74.189930</td>\n",
       "      <td>40.550340</td>\n",
       "      <td>5</td>\n",
       "      <td>5</td>\n",
       "    </tr>\n",
       "    <tr>\n",
       "      <th>...</th>\n",
       "      <td>...</td>\n",
       "      <td>...</td>\n",
       "      <td>...</td>\n",
       "      <td>...</td>\n",
       "    </tr>\n",
       "    <tr>\n",
       "      <th>258</th>\n",
       "      <td>-73.856351</td>\n",
       "      <td>40.899103</td>\n",
       "      <td>259</td>\n",
       "      <td>259</td>\n",
       "    </tr>\n",
       "    <tr>\n",
       "      <th>259</th>\n",
       "      <td>-73.903713</td>\n",
       "      <td>40.746798</td>\n",
       "      <td>260</td>\n",
       "      <td>260</td>\n",
       "    </tr>\n",
       "    <tr>\n",
       "      <th>260</th>\n",
       "      <td>-74.012919</td>\n",
       "      <td>40.708976</td>\n",
       "      <td>261</td>\n",
       "      <td>261</td>\n",
       "    </tr>\n",
       "    <tr>\n",
       "      <th>261</th>\n",
       "      <td>-73.945830</td>\n",
       "      <td>40.776534</td>\n",
       "      <td>262</td>\n",
       "      <td>262</td>\n",
       "    </tr>\n",
       "    <tr>\n",
       "      <th>262</th>\n",
       "      <td>-73.951208</td>\n",
       "      <td>40.778496</td>\n",
       "      <td>263</td>\n",
       "      <td>263</td>\n",
       "    </tr>\n",
       "  </tbody>\n",
       "</table>\n",
       "<p>263 rows × 4 columns</p>\n",
       "</div>"
      ],
      "text/plain": [
       "           lon        lat  PULocationID  DOLocationID\n",
       "0   -74.176786  40.689516             1             1\n",
       "1   -73.826126  40.625724             2             2\n",
       "2   -73.849479  40.865888             3             3\n",
       "3   -73.977023  40.724152             4             4\n",
       "4   -74.189930  40.550340             5             5\n",
       "..         ...        ...           ...           ...\n",
       "258 -73.856351  40.899103           259           259\n",
       "259 -73.903713  40.746798           260           260\n",
       "260 -74.012919  40.708976           261           261\n",
       "261 -73.945830  40.776534           262           262\n",
       "262 -73.951208  40.778496           263           263\n",
       "\n",
       "[263 rows x 4 columns]"
      ]
     },
     "execution_count": 32,
     "metadata": {},
     "output_type": "execute_result"
    }
   ],
   "source": [
    "taxi_zones"
   ]
  },
  {
   "cell_type": "markdown",
   "metadata": {},
   "source": [
    "Добавим в таблицы с данными о поездках координаты посадки и высадки пассажиров. "
   ]
  },
  {
   "cell_type": "code",
   "execution_count": 212,
   "metadata": {},
   "outputs": [],
   "source": [
    "trips19 = pd.merge(trips19, taxi_zones, on='PULocationID', how='left')\n",
    "trips19 = trips19.drop(columns=['DOLocationID_y'])\n",
    "trips19 = trips19.rename(columns={'DOLocationID_x': 'DOLocationID'})\n",
    "\n",
    "trips19 = pd.merge(trips19, taxi_zones, on='DOLocationID', how='left')\n",
    "trips19 = trips19.drop(columns=['PULocationID_y'])\n",
    "trips19 = trips19.rename(columns={'PULocationID_x': 'PULocationID'})"
   ]
  },
  {
   "cell_type": "code",
   "execution_count": 213,
   "metadata": {},
   "outputs": [],
   "source": [
    "trips20 = pd.merge(trips20, taxi_zones, on='PULocationID', how='left')\n",
    "trips20 = trips20.drop(columns=['DOLocationID_y'])\n",
    "trips20 = trips20.rename(columns={'DOLocationID_x': 'DOLocationID'})\n",
    "\n",
    "trips20 = pd.merge(trips20, taxi_zones, on='DOLocationID', how='left')\n",
    "trips20 = trips20.drop(columns=['PULocationID_y'])\n",
    "trips20 = trips20.rename(columns={'PULocationID_x': 'PULocationID'})"
   ]
  },
  {
   "cell_type": "markdown",
   "metadata": {},
   "source": [
    "Переименуем для удобства колонки с долготой и широтой и удалим строки, в которых есть значения Nan."
   ]
  },
  {
   "cell_type": "code",
   "execution_count": 214,
   "metadata": {},
   "outputs": [],
   "source": [
    "trips19 = trips19.rename(columns={'lon_x': 'lon_pu', 'lat_x': 'lat_pu', 'lon_y': 'lon_do', 'lat_y': 'lat_do'})\n",
    "trips19 = trips19.dropna(subset=trips19.columns)\n",
    "\n",
    "trips20 = trips20.rename(columns={'lon_x': 'lon_pu', 'lat_x': 'lat_pu', 'lon_y': 'lon_do', 'lat_y': 'lat_do'})\n",
    "trips20 = trips20.dropna(subset=trips20.columns)"
   ]
  },
  {
   "cell_type": "markdown",
   "metadata": {},
   "source": [
    "Для визуализации создадим таблицу вида:\n",
    "\n",
    "| Отправление/прибытие | id поездки | широта | долгота |\n",
    "|----------------------|------------|--------|---------|"
   ]
  },
  {
   "cell_type": "code",
   "execution_count": 215,
   "metadata": {},
   "outputs": [],
   "source": [
    "cols = ['lon_pu', 'lat_pu', 'lon_do', 'lat_do']"
   ]
  },
  {
   "cell_type": "code",
   "execution_count": 216,
   "metadata": {},
   "outputs": [],
   "source": [
    "trips19_vis = trips19.filter(['lon_pu', 'lat_pu', 'lon_do', 'lat_do']).reset_index()\n",
    "trips19_vis = trips19_vis.rename(columns={'index': 'id'})\n",
    "\n",
    "tmp_trips = trips19_vis.loc[trips19_vis.index.repeat(len(cols) / 2), ['id']].reset_index(drop=True)\n",
    "trips19_vis = tmp_trips.join(pd.DataFrame(trips19_vis[cols].to_numpy().reshape(-1,2), columns=['lon','lat']))\n",
    "\n",
    "trips19_vis = trips19_vis.reset_index()\n",
    "trips19_vis['label'] = np.where(trips19_vis['index'] % 2 == 0, 'Origin', 'Destination')\n",
    "trips19_vis = trips19_vis[['label', 'id', 'lon', 'lat']]\n",
    "\n",
    "trips19_vis.to_csv('trips19_vis.csv', index=False)"
   ]
  },
  {
   "cell_type": "code",
   "execution_count": 217,
   "metadata": {},
   "outputs": [],
   "source": [
    "trips20_vis = trips20.filter(['lon_pu', 'lat_pu', 'lon_do', 'lat_do']).reset_index()\n",
    "trips20_vis = trips20_vis.rename(columns={'index': 'id'})\n",
    "\n",
    "tmp_trips = trips20_vis.loc[trips20_vis.index.repeat(len(cols) / 2), ['id']].reset_index(drop=True)\n",
    "trips20_vis = tmp_trips.join(pd.DataFrame(trips20_vis[cols].to_numpy().reshape(-1,2), columns=['lon','lat']))\n",
    "\n",
    "trips20_vis = trips20_vis.reset_index()\n",
    "trips20_vis['label'] = np.where(trips20_vis['index'] % 2 == 0, 'Origin', 'Destination')\n",
    "trips20_vis = trips20_vis[['label', 'id', 'lon', 'lat']]\n",
    "\n",
    "trips20_vis.to_csv('trips20_vis.csv', index=False)"
   ]
  },
  {
   "cell_type": "code",
   "execution_count": null,
   "metadata": {},
   "outputs": [],
   "source": []
  }
 ],
 "metadata": {
  "kernelspec": {
   "display_name": "Python 3",
   "language": "python",
   "name": "python3"
  },
  "language_info": {
   "codemirror_mode": {
    "name": "ipython",
    "version": 3
   },
   "file_extension": ".py",
   "mimetype": "text/x-python",
   "name": "python",
   "nbconvert_exporter": "python",
   "pygments_lexer": "ipython3",
   "version": "3.6.9"
  }
 },
 "nbformat": 4,
 "nbformat_minor": 4
}
